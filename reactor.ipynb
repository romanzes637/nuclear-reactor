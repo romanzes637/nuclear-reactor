{
  "nbformat": 4,
  "nbformat_minor": 0,
  "metadata": {
    "colab": {
      "name": "reactor.ipynb",
      "version": "0.3.2",
      "provenance": [],
      "collapsed_sections": [],
      "include_colab_link": true
    },
    "kernelspec": {
      "name": "python3",
      "display_name": "Python 3"
    }
  },
  "cells": [
    {
      "cell_type": "markdown",
      "metadata": {
        "id": "view-in-github",
        "colab_type": "text"
      },
      "source": [
        "<a href=\"https://colab.research.google.com/github/romanzes637/nuclear-reactor/blob/master/reactor.ipynb\" target=\"_parent\"><img src=\"https://colab.research.google.com/assets/colab-badge.svg\" alt=\"Open In Colab\"/></a>"
      ]
    },
    {
      "cell_type": "markdown",
      "metadata": {
        "id": "Ur9qeZsR1rny",
        "colab_type": "text"
      },
      "source": [
        "# Events\n",
        "\n"
      ]
    },
    {
      "cell_type": "code",
      "metadata": {
        "id": "Gn4YEv2x1gge",
        "colab_type": "code",
        "colab": {}
      },
      "source": [
        "def tip(reactor):\n",
        "  reactor.acc += 1.0\n",
        "\n",
        "def iodine(reactor):\n",
        "  reactor.acc -= 1.0\n",
        "\n",
        "def pump_down(reactor):\n",
        "  reactor.queue.append({'name': 'steam', 'work': 1.0})\n",
        "  \n",
        "def pump_up(reactor):\n",
        "  reactor.queue.append({'name': 'water', 'work': 1.0})\n",
        "  \n",
        "def rod_down(reactor):\n",
        "  reactor.acc -= 1.0\n",
        "  \n",
        "def rod_up(reactor):\n",
        "  reactor.acc += 1.0  \n",
        "  \n",
        "def water(reactor):\n",
        "  reactor.acc -= 1.0  \n",
        "  \n",
        "def steam(reactor):\n",
        "  reactor.acc += 1.0\n",
        "  \n",
        "def scram(reactor):\n",
        "  reactor.state = 0.0\n",
        "  reactor.rate = 0.0\n",
        "  reactor.acc = 0.0\n",
        "  reactor.queue.append({'name': 'iodine', 'work': 1.0})\n",
        "\n",
        "factory = {\n",
        "    'rod_up': rod_up,\n",
        "    'rod_down': rod_down,\n",
        "    'pump_up': pump_up,\n",
        "    'pump_down': pump_down,\n",
        "    'steam': steam,\n",
        "    'water': water,\n",
        "    'iodine': iodine,\n",
        "    'tip': tip,\n",
        "    'scram': scram\n",
        "}"
      ],
      "execution_count": 0,
      "outputs": []
    },
    {
      "cell_type": "markdown",
      "metadata": {
        "id": "mfQtDtT51x2l",
        "colab_type": "text"
      },
      "source": [
        "# Reactor"
      ]
    },
    {
      "cell_type": "code",
      "metadata": {
        "id": "OKDLiWpcalbi",
        "colab_type": "code",
        "colab": {}
      },
      "source": [
        "from datetime import datetime, timedelta\n",
        "import time\n",
        "import random\n",
        "import matplotlib.pyplot as plt\n",
        "from google.colab import widgets\n",
        "\n",
        "class Reactor:\n",
        "  state = 0  # reactor state from 0 to 100+ (amount of enegry produced per step, max 100)\n",
        "  rate = 0  # per step\n",
        "  acc = 0  # per step\n",
        "  produced = 0  # total energy produced\n",
        "  work = 200  # working time in seconds\n",
        "  step = 1  # step in seconds\n",
        "  start = 0  # start time\n",
        "  cur = 0  # current (step) time\n",
        "  queue = [\n",
        "      {'name': 'scram', 'work': 1.0},\n",
        "      {'name': 'rod_up', 'work': 100.2}, \n",
        "      {'name': 'rod_up', 'work': 100.2},\n",
        "      {'name': 'rod_down', 'work': 1.2}, \n",
        "      {'name': 'steam', 'work': 3.0},\n",
        "      {'name': 'tip', 'work': 1.0},\n",
        "      {'name': 'iodine', 'work': 40.0},\n",
        "      {'name': 'pump_up', 'work': 5.0},\n",
        "      {'name': 'pump_down', 'work': 5.0},\n",
        "  ]  # events queue TODO clean after update_events() has been implemented\n",
        "  chance = 0.0  # disaster chance for states > 100 (checked every step)\n",
        "  chance_rate = 0.005 # disaster chance rate per step for states > 100\n",
        "\n",
        "  def update_events(self):\n",
        "  # TODO read from file that updated by server?\n",
        "#     new_events = [\n",
        "#         {'name': 'scram', 'work': 0.0},\n",
        "#         {'name': 'rod_up', 'work': 4.2}, \n",
        "#         {'name': 'rod_up', 'work': 10.2}, \n",
        "#         {'name': 'rod_down', 'work': 4.2}, \n",
        "#         {'name': 'steam', 'work': 5.0},\n",
        "#         {'name': 'tip', 'work': 10.0},\n",
        "#         {'name': 'iodine', 'work': 4.0},\n",
        "#         {'name': 'pump_up', 'work': 10.0},\n",
        "#         {'name': 'pump_down', 'work': 4.0},\n",
        "#     ]\n",
        "    if 0 < self.state < 50:\n",
        "        self.queue.append({'name': 'iodine', 'work': 1.0})  # iodine pit\n",
        "    new_events = []\n",
        "    self.queue.extend(new_events)\n",
        "  \n",
        "  def events(self):\n",
        "    for e in self.queue:\n",
        "      e.setdefault('start', self.cur)\n",
        "      e.setdefault('end', self.cur + timedelta(seconds=e['work']))\n",
        "      if self.cur <= e['end']:\n",
        "#         print(e['name'])\n",
        "        factory[e['name']](self)\n",
        "\n",
        "  def run(self):\n",
        "    self.start = datetime.utcnow()\n",
        "    self.create_plot()\n",
        "    while (datetime.utcnow() - self.start).seconds < self.work:\n",
        "      time.sleep(self.step)  # wait to next step\n",
        "      self.cur = datetime.utcnow()\n",
        "      self.update_events()\n",
        "      self.events()\n",
        "      self.rate += 0.5 * self.acc\n",
        "      self.state += self.rate\n",
        "      self.rate += 0.5 * self.acc\n",
        "      if self.state < 0:\n",
        "        self.state = 0\n",
        "        self.rate = 0\n",
        "#         self.acc = 0  # FIXME comment?\n",
        "        if self.chance > 0:\n",
        "          self.chance -= self.chance_rate\n",
        "      elif self.state > 100:\n",
        "        self.chance += self.chance_rate\n",
        "        self.produced += 100\n",
        "      else:\n",
        "        self.chance += self.chance_rate\n",
        "        self.produced += self.state\n",
        "        if self.chance > 0:\n",
        "          self.chance -= self.chance_rate        \n",
        "      self.plot()\n",
        "      if random.uniform(0, 1) < self.chance:\n",
        "          print('BOOM!!!')\n",
        "          break\n",
        "\n",
        "  \n",
        "  def create_plot(self):\n",
        "    self.times = []\n",
        "    self.ss = []\n",
        "    self.ps = []\n",
        "    self.rs = []\n",
        "    self.acs = []\n",
        "    self.cs = []\n",
        "    self.grid = widgets.Grid(3, 2, header_row=True, header_column=True)\n",
        "\n",
        "  def plot(self):    \n",
        "    self.times.append(self.cur)\n",
        "    with self.grid.output_to(0, 0):\n",
        "      self.grid.clear_cell()\n",
        "      self.ss.append(self.state)\n",
        "      plt.xlabel('time')\n",
        "      plt.ylabel('%')\n",
        "      plt.title('State')\n",
        "      plt.plot(self.times, self.ss, 'o-r')\n",
        "    with self.grid.output_to(0, 1):\n",
        "      self.grid.clear_cell()\n",
        "      self.ps.append(self.produced)\n",
        "      plt.xlabel('time')\n",
        "      plt.ylabel('energy')\n",
        "      plt.title('Produced')\n",
        "      plt.plot(self.times, self.ps, 'o-g')\n",
        "    with self.grid.output_to(1, 0):\n",
        "      self.grid.clear_cell()\n",
        "      self.rs.append(self.rate)\n",
        "      plt.xlabel('time')\n",
        "      plt.ylabel('state per step')\n",
        "      plt.title('Rate')\n",
        "      plt.plot(self.times, self.rs, 'o-b')\n",
        "    with self.grid.output_to(1, 1):\n",
        "      self.grid.clear_cell()\n",
        "      self.acs.append(self.acc)\n",
        "      plt.xlabel('time')\n",
        "      plt.ylabel('rate per step')\n",
        "      plt.title('Acceleration')\n",
        "      plt.plot(self.times, self.acs, 'o-y')\n",
        "    with self.grid.output_to(2, 0):\n",
        "      self.grid.clear_cell()\n",
        "      print(self.cur.strftime('%H:%M:%S'))\n",
        "      for e in self.queue:\n",
        "        print('name: {}, start: {}, end: {}'.format(\n",
        "            e['name'], e['start'].strftime('%H:%M:%S'),\n",
        "            e['end'].strftime('%H:%M:%S')))\n",
        "    with self.grid.output_to(2, 1):\n",
        "      self.grid.clear_cell()\n",
        "      self.cs.append(self.chance)\n",
        "      plt.xlabel('time')\n",
        "      plt.ylabel('%')\n",
        "      plt.title('Disaster chance')\n",
        "      plt.plot(self.times, self.cs, 'o-m')"
      ],
      "execution_count": 0,
      "outputs": []
    },
    {
      "cell_type": "markdown",
      "metadata": {
        "id": "L91u7dim2DqZ",
        "colab_type": "text"
      },
      "source": [
        "# Run\n",
        "Use CTRL + F9"
      ]
    },
    {
      "cell_type": "code",
      "metadata": {
        "id": "QeFp0v9Jbraf",
        "colab_type": "code",
        "outputId": "cab3982c-fe3a-403e-efc2-c626edb5183b",
        "colab": {
          "base_uri": "https://localhost:8080/",
          "height": 1000
        }
      },
      "source": [
        "r = Reactor()\n",
        "r.run()"
      ],
      "execution_count": 0,
      "outputs": [
        {
          "output_type": "display_data",
          "data": {
            "text/html": [
              "<style>\n",
              "       table#id4, #id4 > tbody > tr > th, #id4 > tbody > tr > td {\n",
              "         border: 1px solid lightgray;\n",
              "         border-collapse:collapse;\n",
              "         \n",
              "        }</style>"
            ],
            "text/plain": [
              "<IPython.core.display.HTML object>"
            ]
          },
          "metadata": {
            "tags": [
              "outputarea_id4"
            ]
          }
        },
        {
          "output_type": "display_data",
          "data": {
            "text/html": [
              "<table id=id4><tr><th id=id4-0-0></th><th id=id4-0-1></th></tr><tr><th id=id4-1-0></th><td id=id4-1-1></td></tr><tr><th id=id4-2-0></th><td id=id4-2-1></td></tr></table>"
            ],
            "text/plain": [
              "<IPython.core.display.HTML object>"
            ]
          },
          "metadata": {
            "tags": [
              "outputarea_id4"
            ]
          }
        },
        {
          "output_type": "display_data",
          "data": {
            "application/javascript": [
              "window[\"904ae044-a3b2-11e9-ad89-0242ac1c0002\"] = google.colab.output.getActiveOutputArea();\n",
              "//# sourceURL=js_e8f80545df"
            ],
            "text/plain": [
              "<IPython.core.display.Javascript object>"
            ]
          },
          "metadata": {
            "tags": [
              "id4-0-0",
              "outputarea_id4"
            ]
          }
        },
        {
          "output_type": "display_data",
          "data": {
            "application/javascript": [
              "window[\"904b1b04-a3b2-11e9-ad89-0242ac1c0002\"] = document.querySelector(\"#id4-0-0\");\n",
              "//# sourceURL=js_8c447d4d76"
            ],
            "text/plain": [
              "<IPython.core.display.Javascript object>"
            ]
          },
          "metadata": {
            "tags": [
              "id4-0-0",
              "outputarea_id4"
            ]
          }
        },
        {
          "output_type": "display_data",
          "data": {
            "application/javascript": [
              "window[\"904b566e-a3b2-11e9-ad89-0242ac1c0002\"] = google.colab.output.setActiveOutputArea(window[\"904b1b04-a3b2-11e9-ad89-0242ac1c0002\"]);\n",
              "//# sourceURL=js_cf22478e83"
            ],
            "text/plain": [
              "<IPython.core.display.Javascript object>"
            ]
          },
          "metadata": {
            "tags": [
              "id4-0-0",
              "outputarea_id4"
            ]
          }
        },
        {
          "output_type": "display_data",
          "data": {
            "application/javascript": [
              "window[\"90737fe0-a3b2-11e9-ad89-0242ac1c0002\"] = google.colab.output.setActiveOutputArea(window[\"904ae044-a3b2-11e9-ad89-0242ac1c0002\"]);\n",
              "//# sourceURL=js_9769ef1b99"
            ],
            "text/plain": [
              "<IPython.core.display.Javascript object>"
            ]
          },
          "metadata": {
            "tags": [
              "id4-0-0",
              "outputarea_id4"
            ]
          }
        },
        {
          "output_type": "display_data",
          "data": {
            "application/javascript": [
              "window[\"9075352e-a3b2-11e9-ad89-0242ac1c0002\"] = google.colab.output.getActiveOutputArea();\n",
              "//# sourceURL=js_5d3d8bb51b"
            ],
            "text/plain": [
              "<IPython.core.display.Javascript object>"
            ]
          },
          "metadata": {
            "tags": [
              "id4-0-1",
              "outputarea_id4"
            ]
          }
        },
        {
          "output_type": "display_data",
          "data": {
            "application/javascript": [
              "window[\"90758204-a3b2-11e9-ad89-0242ac1c0002\"] = document.querySelector(\"#id4-0-1\");\n",
              "//# sourceURL=js_bbf4f7fac2"
            ],
            "text/plain": [
              "<IPython.core.display.Javascript object>"
            ]
          },
          "metadata": {
            "tags": [
              "id4-0-1",
              "outputarea_id4"
            ]
          }
        },
        {
          "output_type": "display_data",
          "data": {
            "application/javascript": [
              "window[\"9075c52a-a3b2-11e9-ad89-0242ac1c0002\"] = google.colab.output.setActiveOutputArea(window[\"90758204-a3b2-11e9-ad89-0242ac1c0002\"]);\n",
              "//# sourceURL=js_2a2814b727"
            ],
            "text/plain": [
              "<IPython.core.display.Javascript object>"
            ]
          },
          "metadata": {
            "tags": [
              "id4-0-1",
              "outputarea_id4"
            ]
          }
        },
        {
          "output_type": "display_data",
          "data": {
            "application/javascript": [
              "window[\"909f21e0-a3b2-11e9-ad89-0242ac1c0002\"] = google.colab.output.setActiveOutputArea(window[\"9075352e-a3b2-11e9-ad89-0242ac1c0002\"]);\n",
              "//# sourceURL=js_ca67436d0c"
            ],
            "text/plain": [
              "<IPython.core.display.Javascript object>"
            ]
          },
          "metadata": {
            "tags": [
              "id4-0-1",
              "outputarea_id4"
            ]
          }
        },
        {
          "output_type": "display_data",
          "data": {
            "application/javascript": [
              "window[\"90a0cd7e-a3b2-11e9-ad89-0242ac1c0002\"] = google.colab.output.getActiveOutputArea();\n",
              "//# sourceURL=js_4f4700f0e0"
            ],
            "text/plain": [
              "<IPython.core.display.Javascript object>"
            ]
          },
          "metadata": {
            "tags": [
              "id4-1-0",
              "outputarea_id4"
            ]
          }
        },
        {
          "output_type": "display_data",
          "data": {
            "application/javascript": [
              "window[\"90a12094-a3b2-11e9-ad89-0242ac1c0002\"] = document.querySelector(\"#id4-1-0\");\n",
              "//# sourceURL=js_007a48f03d"
            ],
            "text/plain": [
              "<IPython.core.display.Javascript object>"
            ]
          },
          "metadata": {
            "tags": [
              "id4-1-0",
              "outputarea_id4"
            ]
          }
        },
        {
          "output_type": "display_data",
          "data": {
            "application/javascript": [
              "window[\"90a17af8-a3b2-11e9-ad89-0242ac1c0002\"] = google.colab.output.setActiveOutputArea(window[\"90a12094-a3b2-11e9-ad89-0242ac1c0002\"]);\n",
              "//# sourceURL=js_1d08eea84c"
            ],
            "text/plain": [
              "<IPython.core.display.Javascript object>"
            ]
          },
          "metadata": {
            "tags": [
              "id4-1-0",
              "outputarea_id4"
            ]
          }
        },
        {
          "output_type": "display_data",
          "data": {
            "application/javascript": [
              "window[\"90cda128-a3b2-11e9-ad89-0242ac1c0002\"] = google.colab.output.setActiveOutputArea(window[\"90a0cd7e-a3b2-11e9-ad89-0242ac1c0002\"]);\n",
              "//# sourceURL=js_08fd874927"
            ],
            "text/plain": [
              "<IPython.core.display.Javascript object>"
            ]
          },
          "metadata": {
            "tags": [
              "id4-1-0",
              "outputarea_id4"
            ]
          }
        },
        {
          "output_type": "display_data",
          "data": {
            "application/javascript": [
              "window[\"90cf6de6-a3b2-11e9-ad89-0242ac1c0002\"] = google.colab.output.getActiveOutputArea();\n",
              "//# sourceURL=js_dcefdf164a"
            ],
            "text/plain": [
              "<IPython.core.display.Javascript object>"
            ]
          },
          "metadata": {
            "tags": [
              "id4-1-1",
              "outputarea_id4"
            ]
          }
        },
        {
          "output_type": "display_data",
          "data": {
            "application/javascript": [
              "window[\"90cfc1b0-a3b2-11e9-ad89-0242ac1c0002\"] = document.querySelector(\"#id4-1-1\");\n",
              "//# sourceURL=js_6c58c51aaf"
            ],
            "text/plain": [
              "<IPython.core.display.Javascript object>"
            ]
          },
          "metadata": {
            "tags": [
              "id4-1-1",
              "outputarea_id4"
            ]
          }
        },
        {
          "output_type": "display_data",
          "data": {
            "application/javascript": [
              "window[\"90cffe78-a3b2-11e9-ad89-0242ac1c0002\"] = google.colab.output.setActiveOutputArea(window[\"90cfc1b0-a3b2-11e9-ad89-0242ac1c0002\"]);\n",
              "//# sourceURL=js_d6bafb8e40"
            ],
            "text/plain": [
              "<IPython.core.display.Javascript object>"
            ]
          },
          "metadata": {
            "tags": [
              "id4-1-1",
              "outputarea_id4"
            ]
          }
        },
        {
          "output_type": "display_data",
          "data": {
            "application/javascript": [
              "window[\"9107003a-a3b2-11e9-ad89-0242ac1c0002\"] = google.colab.output.setActiveOutputArea(window[\"90cf6de6-a3b2-11e9-ad89-0242ac1c0002\"]);\n",
              "//# sourceURL=js_badbd4cd41"
            ],
            "text/plain": [
              "<IPython.core.display.Javascript object>"
            ]
          },
          "metadata": {
            "tags": [
              "id4-1-1",
              "outputarea_id4"
            ]
          }
        },
        {
          "output_type": "display_data",
          "data": {
            "application/javascript": [
              "window[\"9108abd8-a3b2-11e9-ad89-0242ac1c0002\"] = google.colab.output.getActiveOutputArea();\n",
              "//# sourceURL=js_da59398c3c"
            ],
            "text/plain": [
              "<IPython.core.display.Javascript object>"
            ]
          },
          "metadata": {
            "tags": [
              "id4-2-0",
              "outputarea_id4"
            ]
          }
        },
        {
          "output_type": "display_data",
          "data": {
            "application/javascript": [
              "window[\"9108ff0c-a3b2-11e9-ad89-0242ac1c0002\"] = document.querySelector(\"#id4-2-0\");\n",
              "//# sourceURL=js_48ca523a8e"
            ],
            "text/plain": [
              "<IPython.core.display.Javascript object>"
            ]
          },
          "metadata": {
            "tags": [
              "id4-2-0",
              "outputarea_id4"
            ]
          }
        },
        {
          "output_type": "display_data",
          "data": {
            "application/javascript": [
              "window[\"91094a66-a3b2-11e9-ad89-0242ac1c0002\"] = google.colab.output.setActiveOutputArea(window[\"9108ff0c-a3b2-11e9-ad89-0242ac1c0002\"]);\n",
              "//# sourceURL=js_bba2967c91"
            ],
            "text/plain": [
              "<IPython.core.display.Javascript object>"
            ]
          },
          "metadata": {
            "tags": [
              "id4-2-0",
              "outputarea_id4"
            ]
          }
        },
        {
          "output_type": "display_data",
          "data": {
            "application/javascript": [
              "window[\"910b0284-a3b2-11e9-ad89-0242ac1c0002\"] = google.colab.output.setActiveOutputArea(window[\"9108abd8-a3b2-11e9-ad89-0242ac1c0002\"]);\n",
              "//# sourceURL=js_f6b4961f55"
            ],
            "text/plain": [
              "<IPython.core.display.Javascript object>"
            ]
          },
          "metadata": {
            "tags": [
              "id4-2-0",
              "outputarea_id4"
            ]
          }
        },
        {
          "output_type": "display_data",
          "data": {
            "application/javascript": [
              "window[\"910c3f64-a3b2-11e9-ad89-0242ac1c0002\"] = google.colab.output.getActiveOutputArea();\n",
              "//# sourceURL=js_2bd9e29815"
            ],
            "text/plain": [
              "<IPython.core.display.Javascript object>"
            ]
          },
          "metadata": {
            "tags": [
              "id4-2-1",
              "outputarea_id4"
            ]
          }
        },
        {
          "output_type": "display_data",
          "data": {
            "application/javascript": [
              "window[\"910c86a4-a3b2-11e9-ad89-0242ac1c0002\"] = document.querySelector(\"#id4-2-1\");\n",
              "//# sourceURL=js_0fc39d55b3"
            ],
            "text/plain": [
              "<IPython.core.display.Javascript object>"
            ]
          },
          "metadata": {
            "tags": [
              "id4-2-1",
              "outputarea_id4"
            ]
          }
        },
        {
          "output_type": "display_data",
          "data": {
            "application/javascript": [
              "window[\"910cd01e-a3b2-11e9-ad89-0242ac1c0002\"] = google.colab.output.setActiveOutputArea(window[\"910c86a4-a3b2-11e9-ad89-0242ac1c0002\"]);\n",
              "//# sourceURL=js_2cfb7185fe"
            ],
            "text/plain": [
              "<IPython.core.display.Javascript object>"
            ]
          },
          "metadata": {
            "tags": [
              "id4-2-1",
              "outputarea_id4"
            ]
          }
        },
        {
          "output_type": "display_data",
          "data": {
            "application/javascript": [
              "window[\"91368062-a3b2-11e9-ad89-0242ac1c0002\"] = google.colab.output.setActiveOutputArea(window[\"910c3f64-a3b2-11e9-ad89-0242ac1c0002\"]);\n",
              "//# sourceURL=js_8254f3f63c"
            ],
            "text/plain": [
              "<IPython.core.display.Javascript object>"
            ]
          },
          "metadata": {
            "tags": [
              "id4-2-1",
              "outputarea_id4"
            ]
          }
        },
        {
          "output_type": "display_data",
          "data": {
            "application/javascript": [
              "window[\"91d18f1c-a3b2-11e9-ad89-0242ac1c0002\"] = google.colab.output.getActiveOutputArea();\n",
              "//# sourceURL=js_cfc6bb981a"
            ],
            "text/plain": [
              "<IPython.core.display.Javascript object>"
            ]
          },
          "metadata": {
            "tags": [
              "id4-0-0",
              "outputarea_id4"
            ]
          }
        },
        {
          "output_type": "display_data",
          "data": {
            "application/javascript": [
              "window[\"91d245ba-a3b2-11e9-ad89-0242ac1c0002\"] = document.querySelector(\"#id4-0-0\");\n",
              "//# sourceURL=js_5b5e1c253f"
            ],
            "text/plain": [
              "<IPython.core.display.Javascript object>"
            ]
          },
          "metadata": {
            "tags": [
              "id4-0-0",
              "outputarea_id4"
            ]
          }
        },
        {
          "output_type": "display_data",
          "data": {
            "application/javascript": [
              "window[\"91d4c376-a3b2-11e9-ad89-0242ac1c0002\"] = google.colab.output.setActiveOutputArea(window[\"91d245ba-a3b2-11e9-ad89-0242ac1c0002\"]);\n",
              "//# sourceURL=js_2e1156a978"
            ],
            "text/plain": [
              "<IPython.core.display.Javascript object>"
            ]
          },
          "metadata": {
            "tags": [
              "id4-0-0",
              "outputarea_id4"
            ]
          }
        },
        {
          "output_type": "display_data",
          "data": {
            "application/javascript": [
              "window[\"91f5277e-a3b2-11e9-ad89-0242ac1c0002\"] = google.colab.output.setActiveOutputArea(window[\"91d18f1c-a3b2-11e9-ad89-0242ac1c0002\"]);\n",
              "//# sourceURL=js_e44cd13c9d"
            ],
            "text/plain": [
              "<IPython.core.display.Javascript object>"
            ]
          },
          "metadata": {
            "tags": [
              "id4-0-0",
              "outputarea_id4"
            ]
          }
        },
        {
          "output_type": "display_data",
          "data": {
            "application/javascript": [
              "window[\"91f78eec-a3b2-11e9-ad89-0242ac1c0002\"] = google.colab.output.getActiveOutputArea();\n",
              "//# sourceURL=js_78dc13f69a"
            ],
            "text/plain": [
              "<IPython.core.display.Javascript object>"
            ]
          },
          "metadata": {
            "tags": [
              "id4-0-1",
              "outputarea_id4"
            ]
          }
        },
        {
          "output_type": "display_data",
          "data": {
            "application/javascript": [
              "window[\"91f7d23a-a3b2-11e9-ad89-0242ac1c0002\"] = document.querySelector(\"#id4-0-1\");\n",
              "//# sourceURL=js_4dea7866fc"
            ],
            "text/plain": [
              "<IPython.core.display.Javascript object>"
            ]
          },
          "metadata": {
            "tags": [
              "id4-0-1",
              "outputarea_id4"
            ]
          }
        },
        {
          "output_type": "display_data",
          "data": {
            "application/javascript": [
              "window[\"91f81376-a3b2-11e9-ad89-0242ac1c0002\"] = google.colab.output.setActiveOutputArea(window[\"91f7d23a-a3b2-11e9-ad89-0242ac1c0002\"]);\n",
              "//# sourceURL=js_6f1fe72ebe"
            ],
            "text/plain": [
              "<IPython.core.display.Javascript object>"
            ]
          },
          "metadata": {
            "tags": [
              "id4-0-1",
              "outputarea_id4"
            ]
          }
        },
        {
          "output_type": "display_data",
          "data": {
            "application/javascript": [
              "window[\"921955cc-a3b2-11e9-ad89-0242ac1c0002\"] = google.colab.output.setActiveOutputArea(window[\"91f78eec-a3b2-11e9-ad89-0242ac1c0002\"]);\n",
              "//# sourceURL=js_6b8b4dd21e"
            ],
            "text/plain": [
              "<IPython.core.display.Javascript object>"
            ]
          },
          "metadata": {
            "tags": [
              "id4-0-1",
              "outputarea_id4"
            ]
          }
        },
        {
          "output_type": "display_data",
          "data": {
            "application/javascript": [
              "window[\"921bff7a-a3b2-11e9-ad89-0242ac1c0002\"] = google.colab.output.getActiveOutputArea();\n",
              "//# sourceURL=js_73bb9d1067"
            ],
            "text/plain": [
              "<IPython.core.display.Javascript object>"
            ]
          },
          "metadata": {
            "tags": [
              "id4-1-0",
              "outputarea_id4"
            ]
          }
        },
        {
          "output_type": "display_data",
          "data": {
            "application/javascript": [
              "window[\"921c457a-a3b2-11e9-ad89-0242ac1c0002\"] = document.querySelector(\"#id4-1-0\");\n",
              "//# sourceURL=js_2fd0b0c6fb"
            ],
            "text/plain": [
              "<IPython.core.display.Javascript object>"
            ]
          },
          "metadata": {
            "tags": [
              "id4-1-0",
              "outputarea_id4"
            ]
          }
        },
        {
          "output_type": "display_data",
          "data": {
            "application/javascript": [
              "window[\"921c9b06-a3b2-11e9-ad89-0242ac1c0002\"] = google.colab.output.setActiveOutputArea(window[\"921c457a-a3b2-11e9-ad89-0242ac1c0002\"]);\n",
              "//# sourceURL=js_fd713da249"
            ],
            "text/plain": [
              "<IPython.core.display.Javascript object>"
            ]
          },
          "metadata": {
            "tags": [
              "id4-1-0",
              "outputarea_id4"
            ]
          }
        },
        {
          "output_type": "display_data",
          "data": {
            "application/javascript": [
              "window[\"923ee7b0-a3b2-11e9-ad89-0242ac1c0002\"] = google.colab.output.setActiveOutputArea(window[\"921bff7a-a3b2-11e9-ad89-0242ac1c0002\"]);\n",
              "//# sourceURL=js_804c927fe8"
            ],
            "text/plain": [
              "<IPython.core.display.Javascript object>"
            ]
          },
          "metadata": {
            "tags": [
              "id4-1-0",
              "outputarea_id4"
            ]
          }
        },
        {
          "output_type": "display_data",
          "data": {
            "application/javascript": [
              "window[\"92413fec-a3b2-11e9-ad89-0242ac1c0002\"] = google.colab.output.getActiveOutputArea();\n",
              "//# sourceURL=js_4d5b4b8f61"
            ],
            "text/plain": [
              "<IPython.core.display.Javascript object>"
            ]
          },
          "metadata": {
            "tags": [
              "id4-1-1",
              "outputarea_id4"
            ]
          }
        },
        {
          "output_type": "display_data",
          "data": {
            "application/javascript": [
              "window[\"92419352-a3b2-11e9-ad89-0242ac1c0002\"] = document.querySelector(\"#id4-1-1\");\n",
              "//# sourceURL=js_3b3eb17a2e"
            ],
            "text/plain": [
              "<IPython.core.display.Javascript object>"
            ]
          },
          "metadata": {
            "tags": [
              "id4-1-1",
              "outputarea_id4"
            ]
          }
        },
        {
          "output_type": "display_data",
          "data": {
            "application/javascript": [
              "window[\"9241ea0a-a3b2-11e9-ad89-0242ac1c0002\"] = google.colab.output.setActiveOutputArea(window[\"92419352-a3b2-11e9-ad89-0242ac1c0002\"]);\n",
              "//# sourceURL=js_70c6b0cbd5"
            ],
            "text/plain": [
              "<IPython.core.display.Javascript object>"
            ]
          },
          "metadata": {
            "tags": [
              "id4-1-1",
              "outputarea_id4"
            ]
          }
        },
        {
          "output_type": "display_data",
          "data": {
            "application/javascript": [
              "window[\"92626244-a3b2-11e9-ad89-0242ac1c0002\"] = google.colab.output.setActiveOutputArea(window[\"92413fec-a3b2-11e9-ad89-0242ac1c0002\"]);\n",
              "//# sourceURL=js_bd05dd8ded"
            ],
            "text/plain": [
              "<IPython.core.display.Javascript object>"
            ]
          },
          "metadata": {
            "tags": [
              "id4-1-1",
              "outputarea_id4"
            ]
          }
        },
        {
          "output_type": "display_data",
          "data": {
            "application/javascript": [
              "window[\"9264a284-a3b2-11e9-ad89-0242ac1c0002\"] = google.colab.output.getActiveOutputArea();\n",
              "//# sourceURL=js_c083100197"
            ],
            "text/plain": [
              "<IPython.core.display.Javascript object>"
            ]
          },
          "metadata": {
            "tags": [
              "id4-2-0",
              "outputarea_id4"
            ]
          }
        },
        {
          "output_type": "display_data",
          "data": {
            "application/javascript": [
              "window[\"9264effa-a3b2-11e9-ad89-0242ac1c0002\"] = document.querySelector(\"#id4-2-0\");\n",
              "//# sourceURL=js_461e2d3404"
            ],
            "text/plain": [
              "<IPython.core.display.Javascript object>"
            ]
          },
          "metadata": {
            "tags": [
              "id4-2-0",
              "outputarea_id4"
            ]
          }
        },
        {
          "output_type": "display_data",
          "data": {
            "application/javascript": [
              "window[\"92652d8a-a3b2-11e9-ad89-0242ac1c0002\"] = google.colab.output.setActiveOutputArea(window[\"9264effa-a3b2-11e9-ad89-0242ac1c0002\"]);\n",
              "//# sourceURL=js_bb62a2cd6f"
            ],
            "text/plain": [
              "<IPython.core.display.Javascript object>"
            ]
          },
          "metadata": {
            "tags": [
              "id4-2-0",
              "outputarea_id4"
            ]
          }
        },
        {
          "output_type": "display_data",
          "data": {
            "application/javascript": [
              "window[\"9266fb6a-a3b2-11e9-ad89-0242ac1c0002\"] = google.colab.output.setActiveOutputArea(window[\"9264a284-a3b2-11e9-ad89-0242ac1c0002\"]);\n",
              "//# sourceURL=js_3859092f9b"
            ],
            "text/plain": [
              "<IPython.core.display.Javascript object>"
            ]
          },
          "metadata": {
            "tags": [
              "id4-2-0",
              "outputarea_id4"
            ]
          }
        },
        {
          "output_type": "display_data",
          "data": {
            "application/javascript": [
              "window[\"92699730-a3b2-11e9-ad89-0242ac1c0002\"] = google.colab.output.getActiveOutputArea();\n",
              "//# sourceURL=js_125c72b40e"
            ],
            "text/plain": [
              "<IPython.core.display.Javascript object>"
            ]
          },
          "metadata": {
            "tags": [
              "id4-2-1",
              "outputarea_id4"
            ]
          }
        },
        {
          "output_type": "display_data",
          "data": {
            "application/javascript": [
              "window[\"926a1778-a3b2-11e9-ad89-0242ac1c0002\"] = document.querySelector(\"#id4-2-1\");\n",
              "//# sourceURL=js_ebf64f04f3"
            ],
            "text/plain": [
              "<IPython.core.display.Javascript object>"
            ]
          },
          "metadata": {
            "tags": [
              "id4-2-1",
              "outputarea_id4"
            ]
          }
        },
        {
          "output_type": "display_data",
          "data": {
            "application/javascript": [
              "window[\"926a8c94-a3b2-11e9-ad89-0242ac1c0002\"] = google.colab.output.setActiveOutputArea(window[\"926a1778-a3b2-11e9-ad89-0242ac1c0002\"]);\n",
              "//# sourceURL=js_36eef586e0"
            ],
            "text/plain": [
              "<IPython.core.display.Javascript object>"
            ]
          },
          "metadata": {
            "tags": [
              "id4-2-1",
              "outputarea_id4"
            ]
          }
        },
        {
          "output_type": "display_data",
          "data": {
            "application/javascript": [
              "window[\"928e2a96-a3b2-11e9-ad89-0242ac1c0002\"] = google.colab.output.setActiveOutputArea(window[\"92699730-a3b2-11e9-ad89-0242ac1c0002\"]);\n",
              "//# sourceURL=js_755643b615"
            ],
            "text/plain": [
              "<IPython.core.display.Javascript object>"
            ]
          },
          "metadata": {
            "tags": [
              "id4-2-1",
              "outputarea_id4"
            ]
          }
        },
        {
          "output_type": "display_data",
          "data": {
            "application/javascript": [
              "window[\"9329f84a-a3b2-11e9-ad89-0242ac1c0002\"] = google.colab.output.getActiveOutputArea();\n",
              "//# sourceURL=js_d2986f4c70"
            ],
            "text/plain": [
              "<IPython.core.display.Javascript object>"
            ]
          },
          "metadata": {
            "tags": [
              "id4-0-0",
              "outputarea_id4"
            ]
          }
        },
        {
          "output_type": "display_data",
          "data": {
            "application/javascript": [
              "window[\"932aa3b2-a3b2-11e9-ad89-0242ac1c0002\"] = document.querySelector(\"#id4-0-0\");\n",
              "//# sourceURL=js_2d9534f112"
            ],
            "text/plain": [
              "<IPython.core.display.Javascript object>"
            ]
          },
          "metadata": {
            "tags": [
              "id4-0-0",
              "outputarea_id4"
            ]
          }
        },
        {
          "output_type": "display_data",
          "data": {
            "application/javascript": [
              "window[\"932b03c0-a3b2-11e9-ad89-0242ac1c0002\"] = google.colab.output.setActiveOutputArea(window[\"932aa3b2-a3b2-11e9-ad89-0242ac1c0002\"]);\n",
              "//# sourceURL=js_1f11ab3023"
            ],
            "text/plain": [
              "<IPython.core.display.Javascript object>"
            ]
          },
          "metadata": {
            "tags": [
              "id4-0-0",
              "outputarea_id4"
            ]
          }
        },
        {
          "output_type": "display_data",
          "data": {
            "application/javascript": [
              "window[\"934bf616-a3b2-11e9-ad89-0242ac1c0002\"] = google.colab.output.setActiveOutputArea(window[\"9329f84a-a3b2-11e9-ad89-0242ac1c0002\"]);\n",
              "//# sourceURL=js_9a22462779"
            ],
            "text/plain": [
              "<IPython.core.display.Javascript object>"
            ]
          },
          "metadata": {
            "tags": [
              "id4-0-0",
              "outputarea_id4"
            ]
          }
        },
        {
          "output_type": "display_data",
          "data": {
            "application/javascript": [
              "window[\"934de75a-a3b2-11e9-ad89-0242ac1c0002\"] = google.colab.output.getActiveOutputArea();\n",
              "//# sourceURL=js_ef4b46d3e2"
            ],
            "text/plain": [
              "<IPython.core.display.Javascript object>"
            ]
          },
          "metadata": {
            "tags": [
              "id4-0-1",
              "outputarea_id4"
            ]
          }
        },
        {
          "output_type": "display_data",
          "data": {
            "application/javascript": [
              "window[\"934e69e6-a3b2-11e9-ad89-0242ac1c0002\"] = document.querySelector(\"#id4-0-1\");\n",
              "//# sourceURL=js_09538b9b17"
            ],
            "text/plain": [
              "<IPython.core.display.Javascript object>"
            ]
          },
          "metadata": {
            "tags": [
              "id4-0-1",
              "outputarea_id4"
            ]
          }
        },
        {
          "output_type": "display_data",
          "data": {
            "application/javascript": [
              "window[\"934edf20-a3b2-11e9-ad89-0242ac1c0002\"] = google.colab.output.setActiveOutputArea(window[\"934e69e6-a3b2-11e9-ad89-0242ac1c0002\"]);\n",
              "//# sourceURL=js_cfbc574d3d"
            ],
            "text/plain": [
              "<IPython.core.display.Javascript object>"
            ]
          },
          "metadata": {
            "tags": [
              "id4-0-1",
              "outputarea_id4"
            ]
          }
        },
        {
          "output_type": "display_data",
          "data": {
            "application/javascript": [
              "window[\"9373a5bc-a3b2-11e9-ad89-0242ac1c0002\"] = google.colab.output.setActiveOutputArea(window[\"934de75a-a3b2-11e9-ad89-0242ac1c0002\"]);\n",
              "//# sourceURL=js_761adb8041"
            ],
            "text/plain": [
              "<IPython.core.display.Javascript object>"
            ]
          },
          "metadata": {
            "tags": [
              "id4-0-1",
              "outputarea_id4"
            ]
          }
        },
        {
          "output_type": "display_data",
          "data": {
            "application/javascript": [
              "window[\"93751208-a3b2-11e9-ad89-0242ac1c0002\"] = google.colab.output.getActiveOutputArea();\n",
              "//# sourceURL=js_78f51b18f1"
            ],
            "text/plain": [
              "<IPython.core.display.Javascript object>"
            ]
          },
          "metadata": {
            "tags": [
              "id4-1-0",
              "outputarea_id4"
            ]
          }
        },
        {
          "output_type": "display_data",
          "data": {
            "application/javascript": [
              "window[\"93755bbe-a3b2-11e9-ad89-0242ac1c0002\"] = document.querySelector(\"#id4-1-0\");\n",
              "//# sourceURL=js_73ac246fc6"
            ],
            "text/plain": [
              "<IPython.core.display.Javascript object>"
            ]
          },
          "metadata": {
            "tags": [
              "id4-1-0",
              "outputarea_id4"
            ]
          }
        },
        {
          "output_type": "display_data",
          "data": {
            "application/javascript": [
              "window[\"9375bb72-a3b2-11e9-ad89-0242ac1c0002\"] = google.colab.output.setActiveOutputArea(window[\"93755bbe-a3b2-11e9-ad89-0242ac1c0002\"]);\n",
              "//# sourceURL=js_70a4abdaa9"
            ],
            "text/plain": [
              "<IPython.core.display.Javascript object>"
            ]
          },
          "metadata": {
            "tags": [
              "id4-1-0",
              "outputarea_id4"
            ]
          }
        },
        {
          "output_type": "display_data",
          "data": {
            "application/javascript": [
              "window[\"939e1360-a3b2-11e9-ad89-0242ac1c0002\"] = google.colab.output.setActiveOutputArea(window[\"93751208-a3b2-11e9-ad89-0242ac1c0002\"]);\n",
              "//# sourceURL=js_7366012dff"
            ],
            "text/plain": [
              "<IPython.core.display.Javascript object>"
            ]
          },
          "metadata": {
            "tags": [
              "id4-1-0",
              "outputarea_id4"
            ]
          }
        },
        {
          "output_type": "display_data",
          "data": {
            "application/javascript": [
              "window[\"93a0a5f8-a3b2-11e9-ad89-0242ac1c0002\"] = google.colab.output.getActiveOutputArea();\n",
              "//# sourceURL=js_f43dfb4367"
            ],
            "text/plain": [
              "<IPython.core.display.Javascript object>"
            ]
          },
          "metadata": {
            "tags": [
              "id4-1-1",
              "outputarea_id4"
            ]
          }
        },
        {
          "output_type": "display_data",
          "data": {
            "application/javascript": [
              "window[\"93a11f60-a3b2-11e9-ad89-0242ac1c0002\"] = document.querySelector(\"#id4-1-1\");\n",
              "//# sourceURL=js_122c5e8993"
            ],
            "text/plain": [
              "<IPython.core.display.Javascript object>"
            ]
          },
          "metadata": {
            "tags": [
              "id4-1-1",
              "outputarea_id4"
            ]
          }
        },
        {
          "output_type": "display_data",
          "data": {
            "application/javascript": [
              "window[\"93a1c80c-a3b2-11e9-ad89-0242ac1c0002\"] = google.colab.output.setActiveOutputArea(window[\"93a11f60-a3b2-11e9-ad89-0242ac1c0002\"]);\n",
              "//# sourceURL=js_0b23e7783d"
            ],
            "text/plain": [
              "<IPython.core.display.Javascript object>"
            ]
          },
          "metadata": {
            "tags": [
              "id4-1-1",
              "outputarea_id4"
            ]
          }
        },
        {
          "output_type": "display_data",
          "data": {
            "application/javascript": [
              "window[\"93cc809c-a3b2-11e9-ad89-0242ac1c0002\"] = google.colab.output.setActiveOutputArea(window[\"93a0a5f8-a3b2-11e9-ad89-0242ac1c0002\"]);\n",
              "//# sourceURL=js_f8f6972c43"
            ],
            "text/plain": [
              "<IPython.core.display.Javascript object>"
            ]
          },
          "metadata": {
            "tags": [
              "id4-1-1",
              "outputarea_id4"
            ]
          }
        },
        {
          "output_type": "display_data",
          "data": {
            "application/javascript": [
              "window[\"93cf45f2-a3b2-11e9-ad89-0242ac1c0002\"] = google.colab.output.getActiveOutputArea();\n",
              "//# sourceURL=js_4c0aeb4e56"
            ],
            "text/plain": [
              "<IPython.core.display.Javascript object>"
            ]
          },
          "metadata": {
            "tags": [
              "id4-2-0",
              "outputarea_id4"
            ]
          }
        },
        {
          "output_type": "display_data",
          "data": {
            "application/javascript": [
              "window[\"93cfc05e-a3b2-11e9-ad89-0242ac1c0002\"] = document.querySelector(\"#id4-2-0\");\n",
              "//# sourceURL=js_6e40491b48"
            ],
            "text/plain": [
              "<IPython.core.display.Javascript object>"
            ]
          },
          "metadata": {
            "tags": [
              "id4-2-0",
              "outputarea_id4"
            ]
          }
        },
        {
          "output_type": "display_data",
          "data": {
            "application/javascript": [
              "window[\"93d032fa-a3b2-11e9-ad89-0242ac1c0002\"] = google.colab.output.setActiveOutputArea(window[\"93cfc05e-a3b2-11e9-ad89-0242ac1c0002\"]);\n",
              "//# sourceURL=js_abb5a60661"
            ],
            "text/plain": [
              "<IPython.core.display.Javascript object>"
            ]
          },
          "metadata": {
            "tags": [
              "id4-2-0",
              "outputarea_id4"
            ]
          }
        },
        {
          "output_type": "display_data",
          "data": {
            "application/javascript": [
              "window[\"93d2896a-a3b2-11e9-ad89-0242ac1c0002\"] = google.colab.output.setActiveOutputArea(window[\"93cf45f2-a3b2-11e9-ad89-0242ac1c0002\"]);\n",
              "//# sourceURL=js_8c2dd48d0b"
            ],
            "text/plain": [
              "<IPython.core.display.Javascript object>"
            ]
          },
          "metadata": {
            "tags": [
              "id4-2-0",
              "outputarea_id4"
            ]
          }
        },
        {
          "output_type": "display_data",
          "data": {
            "application/javascript": [
              "window[\"93d510ae-a3b2-11e9-ad89-0242ac1c0002\"] = google.colab.output.getActiveOutputArea();\n",
              "//# sourceURL=js_dc38f42be3"
            ],
            "text/plain": [
              "<IPython.core.display.Javascript object>"
            ]
          },
          "metadata": {
            "tags": [
              "id4-2-1",
              "outputarea_id4"
            ]
          }
        },
        {
          "output_type": "display_data",
          "data": {
            "application/javascript": [
              "window[\"93d5643c-a3b2-11e9-ad89-0242ac1c0002\"] = document.querySelector(\"#id4-2-1\");\n",
              "//# sourceURL=js_251d849935"
            ],
            "text/plain": [
              "<IPython.core.display.Javascript object>"
            ]
          },
          "metadata": {
            "tags": [
              "id4-2-1",
              "outputarea_id4"
            ]
          }
        },
        {
          "output_type": "display_data",
          "data": {
            "application/javascript": [
              "window[\"93d5a956-a3b2-11e9-ad89-0242ac1c0002\"] = google.colab.output.setActiveOutputArea(window[\"93d5643c-a3b2-11e9-ad89-0242ac1c0002\"]);\n",
              "//# sourceURL=js_cf9b244257"
            ],
            "text/plain": [
              "<IPython.core.display.Javascript object>"
            ]
          },
          "metadata": {
            "tags": [
              "id4-2-1",
              "outputarea_id4"
            ]
          }
        },
        {
          "output_type": "display_data",
          "data": {
            "application/javascript": [
              "window[\"93f71eec-a3b2-11e9-ad89-0242ac1c0002\"] = google.colab.output.setActiveOutputArea(window[\"93d510ae-a3b2-11e9-ad89-0242ac1c0002\"]);\n",
              "//# sourceURL=js_b3233ae060"
            ],
            "text/plain": [
              "<IPython.core.display.Javascript object>"
            ]
          },
          "metadata": {
            "tags": [
              "id4-2-1",
              "outputarea_id4"
            ]
          }
        },
        {
          "output_type": "display_data",
          "data": {
            "application/javascript": [
              "window[\"94915700-a3b2-11e9-ad89-0242ac1c0002\"] = google.colab.output.getActiveOutputArea();\n",
              "//# sourceURL=js_590888a9e3"
            ],
            "text/plain": [
              "<IPython.core.display.Javascript object>"
            ]
          },
          "metadata": {
            "tags": [
              "id4-0-0",
              "outputarea_id4"
            ]
          }
        },
        {
          "output_type": "display_data",
          "data": {
            "application/javascript": [
              "window[\"9491a228-a3b2-11e9-ad89-0242ac1c0002\"] = document.querySelector(\"#id4-0-0\");\n",
              "//# sourceURL=js_282858da6a"
            ],
            "text/plain": [
              "<IPython.core.display.Javascript object>"
            ]
          },
          "metadata": {
            "tags": [
              "id4-0-0",
              "outputarea_id4"
            ]
          }
        },
        {
          "output_type": "display_data",
          "data": {
            "application/javascript": [
              "window[\"9492afec-a3b2-11e9-ad89-0242ac1c0002\"] = google.colab.output.setActiveOutputArea(window[\"9491a228-a3b2-11e9-ad89-0242ac1c0002\"]);\n",
              "//# sourceURL=js_84ee360e17"
            ],
            "text/plain": [
              "<IPython.core.display.Javascript object>"
            ]
          },
          "metadata": {
            "tags": [
              "id4-0-0",
              "outputarea_id4"
            ]
          }
        },
        {
          "output_type": "display_data",
          "data": {
            "application/javascript": [
              "window[\"94b57464-a3b2-11e9-ad89-0242ac1c0002\"] = google.colab.output.setActiveOutputArea(window[\"94915700-a3b2-11e9-ad89-0242ac1c0002\"]);\n",
              "//# sourceURL=js_cb6925e938"
            ],
            "text/plain": [
              "<IPython.core.display.Javascript object>"
            ]
          },
          "metadata": {
            "tags": [
              "id4-0-0",
              "outputarea_id4"
            ]
          }
        },
        {
          "output_type": "display_data",
          "data": {
            "application/javascript": [
              "window[\"94b7ae1e-a3b2-11e9-ad89-0242ac1c0002\"] = google.colab.output.getActiveOutputArea();\n",
              "//# sourceURL=js_70b626a9c8"
            ],
            "text/plain": [
              "<IPython.core.display.Javascript object>"
            ]
          },
          "metadata": {
            "tags": [
              "id4-0-1",
              "outputarea_id4"
            ]
          }
        },
        {
          "output_type": "display_data",
          "data": {
            "application/javascript": [
              "window[\"94b7fcac-a3b2-11e9-ad89-0242ac1c0002\"] = document.querySelector(\"#id4-0-1\");\n",
              "//# sourceURL=js_fd73fee2ee"
            ],
            "text/plain": [
              "<IPython.core.display.Javascript object>"
            ]
          },
          "metadata": {
            "tags": [
              "id4-0-1",
              "outputarea_id4"
            ]
          }
        },
        {
          "output_type": "display_data",
          "data": {
            "application/javascript": [
              "window[\"94b85846-a3b2-11e9-ad89-0242ac1c0002\"] = google.colab.output.setActiveOutputArea(window[\"94b7fcac-a3b2-11e9-ad89-0242ac1c0002\"]);\n",
              "//# sourceURL=js_8d122407ea"
            ],
            "text/plain": [
              "<IPython.core.display.Javascript object>"
            ]
          },
          "metadata": {
            "tags": [
              "id4-0-1",
              "outputarea_id4"
            ]
          }
        },
        {
          "output_type": "display_data",
          "data": {
            "application/javascript": [
              "window[\"94e01908-a3b2-11e9-ad89-0242ac1c0002\"] = google.colab.output.setActiveOutputArea(window[\"94b7ae1e-a3b2-11e9-ad89-0242ac1c0002\"]);\n",
              "//# sourceURL=js_164d55ff1a"
            ],
            "text/plain": [
              "<IPython.core.display.Javascript object>"
            ]
          },
          "metadata": {
            "tags": [
              "id4-0-1",
              "outputarea_id4"
            ]
          }
        },
        {
          "output_type": "display_data",
          "data": {
            "application/javascript": [
              "window[\"94e21faa-a3b2-11e9-ad89-0242ac1c0002\"] = google.colab.output.getActiveOutputArea();\n",
              "//# sourceURL=js_a0e4643b71"
            ],
            "text/plain": [
              "<IPython.core.display.Javascript object>"
            ]
          },
          "metadata": {
            "tags": [
              "id4-1-0",
              "outputarea_id4"
            ]
          }
        },
        {
          "output_type": "display_data",
          "data": {
            "application/javascript": [
              "window[\"94e25d94-a3b2-11e9-ad89-0242ac1c0002\"] = document.querySelector(\"#id4-1-0\");\n",
              "//# sourceURL=js_c00bfdd9f8"
            ],
            "text/plain": [
              "<IPython.core.display.Javascript object>"
            ]
          },
          "metadata": {
            "tags": [
              "id4-1-0",
              "outputarea_id4"
            ]
          }
        },
        {
          "output_type": "display_data",
          "data": {
            "application/javascript": [
              "window[\"94e2b44c-a3b2-11e9-ad89-0242ac1c0002\"] = google.colab.output.setActiveOutputArea(window[\"94e25d94-a3b2-11e9-ad89-0242ac1c0002\"]);\n",
              "//# sourceURL=js_aabac40725"
            ],
            "text/plain": [
              "<IPython.core.display.Javascript object>"
            ]
          },
          "metadata": {
            "tags": [
              "id4-1-0",
              "outputarea_id4"
            ]
          }
        },
        {
          "output_type": "display_data",
          "data": {
            "application/javascript": [
              "window[\"9507b936-a3b2-11e9-ad89-0242ac1c0002\"] = google.colab.output.setActiveOutputArea(window[\"94e21faa-a3b2-11e9-ad89-0242ac1c0002\"]);\n",
              "//# sourceURL=js_f1f249e898"
            ],
            "text/plain": [
              "<IPython.core.display.Javascript object>"
            ]
          },
          "metadata": {
            "tags": [
              "id4-1-0",
              "outputarea_id4"
            ]
          }
        },
        {
          "output_type": "display_data",
          "data": {
            "application/javascript": [
              "window[\"950983e2-a3b2-11e9-ad89-0242ac1c0002\"] = google.colab.output.getActiveOutputArea();\n",
              "//# sourceURL=js_e0c91e9708"
            ],
            "text/plain": [
              "<IPython.core.display.Javascript object>"
            ]
          },
          "metadata": {
            "tags": [
              "id4-1-1",
              "outputarea_id4"
            ]
          }
        },
        {
          "output_type": "display_data",
          "data": {
            "application/javascript": [
              "window[\"9509da0e-a3b2-11e9-ad89-0242ac1c0002\"] = document.querySelector(\"#id4-1-1\");\n",
              "//# sourceURL=js_c13646f6f9"
            ],
            "text/plain": [
              "<IPython.core.display.Javascript object>"
            ]
          },
          "metadata": {
            "tags": [
              "id4-1-1",
              "outputarea_id4"
            ]
          }
        },
        {
          "output_type": "display_data",
          "data": {
            "application/javascript": [
              "window[\"950a293c-a3b2-11e9-ad89-0242ac1c0002\"] = google.colab.output.setActiveOutputArea(window[\"9509da0e-a3b2-11e9-ad89-0242ac1c0002\"]);\n",
              "//# sourceURL=js_cb49133cb0"
            ],
            "text/plain": [
              "<IPython.core.display.Javascript object>"
            ]
          },
          "metadata": {
            "tags": [
              "id4-1-1",
              "outputarea_id4"
            ]
          }
        },
        {
          "output_type": "display_data",
          "data": {
            "application/javascript": [
              "window[\"953e1f44-a3b2-11e9-ad89-0242ac1c0002\"] = google.colab.output.setActiveOutputArea(window[\"950983e2-a3b2-11e9-ad89-0242ac1c0002\"]);\n",
              "//# sourceURL=js_f2ebf13f8b"
            ],
            "text/plain": [
              "<IPython.core.display.Javascript object>"
            ]
          },
          "metadata": {
            "tags": [
              "id4-1-1",
              "outputarea_id4"
            ]
          }
        },
        {
          "output_type": "display_data",
          "data": {
            "application/javascript": [
              "window[\"9540dd88-a3b2-11e9-ad89-0242ac1c0002\"] = google.colab.output.getActiveOutputArea();\n",
              "//# sourceURL=js_744d27d6ce"
            ],
            "text/plain": [
              "<IPython.core.display.Javascript object>"
            ]
          },
          "metadata": {
            "tags": [
              "id4-2-0",
              "outputarea_id4"
            ]
          }
        },
        {
          "output_type": "display_data",
          "data": {
            "application/javascript": [
              "window[\"954173ce-a3b2-11e9-ad89-0242ac1c0002\"] = document.querySelector(\"#id4-2-0\");\n",
              "//# sourceURL=js_0263c23121"
            ],
            "text/plain": [
              "<IPython.core.display.Javascript object>"
            ]
          },
          "metadata": {
            "tags": [
              "id4-2-0",
              "outputarea_id4"
            ]
          }
        },
        {
          "output_type": "display_data",
          "data": {
            "application/javascript": [
              "window[\"9541ec1e-a3b2-11e9-ad89-0242ac1c0002\"] = google.colab.output.setActiveOutputArea(window[\"954173ce-a3b2-11e9-ad89-0242ac1c0002\"]);\n",
              "//# sourceURL=js_17de1aa3f9"
            ],
            "text/plain": [
              "<IPython.core.display.Javascript object>"
            ]
          },
          "metadata": {
            "tags": [
              "id4-2-0",
              "outputarea_id4"
            ]
          }
        },
        {
          "output_type": "display_data",
          "data": {
            "application/javascript": [
              "window[\"9544e450-a3b2-11e9-ad89-0242ac1c0002\"] = google.colab.output.setActiveOutputArea(window[\"9540dd88-a3b2-11e9-ad89-0242ac1c0002\"]);\n",
              "//# sourceURL=js_4a22d4daac"
            ],
            "text/plain": [
              "<IPython.core.display.Javascript object>"
            ]
          },
          "metadata": {
            "tags": [
              "id4-2-0",
              "outputarea_id4"
            ]
          }
        },
        {
          "output_type": "display_data",
          "data": {
            "application/javascript": [
              "window[\"9546cf0e-a3b2-11e9-ad89-0242ac1c0002\"] = google.colab.output.getActiveOutputArea();\n",
              "//# sourceURL=js_aa49c79b53"
            ],
            "text/plain": [
              "<IPython.core.display.Javascript object>"
            ]
          },
          "metadata": {
            "tags": [
              "id4-2-1",
              "outputarea_id4"
            ]
          }
        },
        {
          "output_type": "display_data",
          "data": {
            "application/javascript": [
              "window[\"95472df0-a3b2-11e9-ad89-0242ac1c0002\"] = document.querySelector(\"#id4-2-1\");\n",
              "//# sourceURL=js_1608805243"
            ],
            "text/plain": [
              "<IPython.core.display.Javascript object>"
            ]
          },
          "metadata": {
            "tags": [
              "id4-2-1",
              "outputarea_id4"
            ]
          }
        },
        {
          "output_type": "display_data",
          "data": {
            "application/javascript": [
              "window[\"954772ec-a3b2-11e9-ad89-0242ac1c0002\"] = google.colab.output.setActiveOutputArea(window[\"95472df0-a3b2-11e9-ad89-0242ac1c0002\"]);\n",
              "//# sourceURL=js_08648025ba"
            ],
            "text/plain": [
              "<IPython.core.display.Javascript object>"
            ]
          },
          "metadata": {
            "tags": [
              "id4-2-1",
              "outputarea_id4"
            ]
          }
        },
        {
          "output_type": "display_data",
          "data": {
            "application/javascript": [
              "window[\"956cbcc8-a3b2-11e9-ad89-0242ac1c0002\"] = google.colab.output.setActiveOutputArea(window[\"9546cf0e-a3b2-11e9-ad89-0242ac1c0002\"]);\n",
              "//# sourceURL=js_453ac6fa0c"
            ],
            "text/plain": [
              "<IPython.core.display.Javascript object>"
            ]
          },
          "metadata": {
            "tags": [
              "id4-2-1",
              "outputarea_id4"
            ]
          }
        },
        {
          "output_type": "display_data",
          "data": {
            "application/javascript": [
              "window[\"96073c4e-a3b2-11e9-ad89-0242ac1c0002\"] = google.colab.output.getActiveOutputArea();\n",
              "//# sourceURL=js_8f8c056e97"
            ],
            "text/plain": [
              "<IPython.core.display.Javascript object>"
            ]
          },
          "metadata": {
            "tags": [
              "id4-0-0",
              "outputarea_id4"
            ]
          }
        },
        {
          "output_type": "display_data",
          "data": {
            "application/javascript": [
              "window[\"96078000-a3b2-11e9-ad89-0242ac1c0002\"] = document.querySelector(\"#id4-0-0\");\n",
              "//# sourceURL=js_03aa4c5412"
            ],
            "text/plain": [
              "<IPython.core.display.Javascript object>"
            ]
          },
          "metadata": {
            "tags": [
              "id4-0-0",
              "outputarea_id4"
            ]
          }
        },
        {
          "output_type": "display_data",
          "data": {
            "application/javascript": [
              "window[\"96083e3c-a3b2-11e9-ad89-0242ac1c0002\"] = google.colab.output.setActiveOutputArea(window[\"96078000-a3b2-11e9-ad89-0242ac1c0002\"]);\n",
              "//# sourceURL=js_6dd6c96121"
            ],
            "text/plain": [
              "<IPython.core.display.Javascript object>"
            ]
          },
          "metadata": {
            "tags": [
              "id4-0-0",
              "outputarea_id4"
            ]
          }
        },
        {
          "output_type": "display_data",
          "data": {
            "application/javascript": [
              "window[\"96333416-a3b2-11e9-ad89-0242ac1c0002\"] = google.colab.output.setActiveOutputArea(window[\"96073c4e-a3b2-11e9-ad89-0242ac1c0002\"]);\n",
              "//# sourceURL=js_bec2e36808"
            ],
            "text/plain": [
              "<IPython.core.display.Javascript object>"
            ]
          },
          "metadata": {
            "tags": [
              "id4-0-0",
              "outputarea_id4"
            ]
          }
        },
        {
          "output_type": "display_data",
          "data": {
            "application/javascript": [
              "window[\"96361014-a3b2-11e9-ad89-0242ac1c0002\"] = google.colab.output.getActiveOutputArea();\n",
              "//# sourceURL=js_943b68a14b"
            ],
            "text/plain": [
              "<IPython.core.display.Javascript object>"
            ]
          },
          "metadata": {
            "tags": [
              "id4-0-1",
              "outputarea_id4"
            ]
          }
        },
        {
          "output_type": "display_data",
          "data": {
            "application/javascript": [
              "window[\"96366c62-a3b2-11e9-ad89-0242ac1c0002\"] = document.querySelector(\"#id4-0-1\");\n",
              "//# sourceURL=js_535c5272e4"
            ],
            "text/plain": [
              "<IPython.core.display.Javascript object>"
            ]
          },
          "metadata": {
            "tags": [
              "id4-0-1",
              "outputarea_id4"
            ]
          }
        },
        {
          "output_type": "display_data",
          "data": {
            "application/javascript": [
              "window[\"9636c644-a3b2-11e9-ad89-0242ac1c0002\"] = google.colab.output.setActiveOutputArea(window[\"96366c62-a3b2-11e9-ad89-0242ac1c0002\"]);\n",
              "//# sourceURL=js_183140a3e7"
            ],
            "text/plain": [
              "<IPython.core.display.Javascript object>"
            ]
          },
          "metadata": {
            "tags": [
              "id4-0-1",
              "outputarea_id4"
            ]
          }
        },
        {
          "output_type": "display_data",
          "data": {
            "application/javascript": [
              "window[\"96623bda-a3b2-11e9-ad89-0242ac1c0002\"] = google.colab.output.setActiveOutputArea(window[\"96361014-a3b2-11e9-ad89-0242ac1c0002\"]);\n",
              "//# sourceURL=js_6d56cefb22"
            ],
            "text/plain": [
              "<IPython.core.display.Javascript object>"
            ]
          },
          "metadata": {
            "tags": [
              "id4-0-1",
              "outputarea_id4"
            ]
          }
        },
        {
          "output_type": "display_data",
          "data": {
            "application/javascript": [
              "window[\"9663d800-a3b2-11e9-ad89-0242ac1c0002\"] = google.colab.output.getActiveOutputArea();\n",
              "//# sourceURL=js_fecf042759"
            ],
            "text/plain": [
              "<IPython.core.display.Javascript object>"
            ]
          },
          "metadata": {
            "tags": [
              "id4-1-0",
              "outputarea_id4"
            ]
          }
        },
        {
          "output_type": "display_data",
          "data": {
            "application/javascript": [
              "window[\"9664169e-a3b2-11e9-ad89-0242ac1c0002\"] = document.querySelector(\"#id4-1-0\");\n",
              "//# sourceURL=js_da5e01e107"
            ],
            "text/plain": [
              "<IPython.core.display.Javascript object>"
            ]
          },
          "metadata": {
            "tags": [
              "id4-1-0",
              "outputarea_id4"
            ]
          }
        },
        {
          "output_type": "display_data",
          "data": {
            "application/javascript": [
              "window[\"9664512c-a3b2-11e9-ad89-0242ac1c0002\"] = google.colab.output.setActiveOutputArea(window[\"9664169e-a3b2-11e9-ad89-0242ac1c0002\"]);\n",
              "//# sourceURL=js_f7c65183a4"
            ],
            "text/plain": [
              "<IPython.core.display.Javascript object>"
            ]
          },
          "metadata": {
            "tags": [
              "id4-1-0",
              "outputarea_id4"
            ]
          }
        },
        {
          "output_type": "display_data",
          "data": {
            "application/javascript": [
              "window[\"968e5d28-a3b2-11e9-ad89-0242ac1c0002\"] = google.colab.output.setActiveOutputArea(window[\"9663d800-a3b2-11e9-ad89-0242ac1c0002\"]);\n",
              "//# sourceURL=js_a37dba372c"
            ],
            "text/plain": [
              "<IPython.core.display.Javascript object>"
            ]
          },
          "metadata": {
            "tags": [
              "id4-1-0",
              "outputarea_id4"
            ]
          }
        },
        {
          "output_type": "display_data",
          "data": {
            "application/javascript": [
              "window[\"968fc0f0-a3b2-11e9-ad89-0242ac1c0002\"] = google.colab.output.getActiveOutputArea();\n",
              "//# sourceURL=js_4bfacb4909"
            ],
            "text/plain": [
              "<IPython.core.display.Javascript object>"
            ]
          },
          "metadata": {
            "tags": [
              "id4-1-1",
              "outputarea_id4"
            ]
          }
        },
        {
          "output_type": "display_data",
          "data": {
            "application/javascript": [
              "window[\"96900722-a3b2-11e9-ad89-0242ac1c0002\"] = document.querySelector(\"#id4-1-1\");\n",
              "//# sourceURL=js_eec09a0b66"
            ],
            "text/plain": [
              "<IPython.core.display.Javascript object>"
            ]
          },
          "metadata": {
            "tags": [
              "id4-1-1",
              "outputarea_id4"
            ]
          }
        },
        {
          "output_type": "display_data",
          "data": {
            "application/javascript": [
              "window[\"96904570-a3b2-11e9-ad89-0242ac1c0002\"] = google.colab.output.setActiveOutputArea(window[\"96900722-a3b2-11e9-ad89-0242ac1c0002\"]);\n",
              "//# sourceURL=js_99f79a0f0c"
            ],
            "text/plain": [
              "<IPython.core.display.Javascript object>"
            ]
          },
          "metadata": {
            "tags": [
              "id4-1-1",
              "outputarea_id4"
            ]
          }
        },
        {
          "output_type": "display_data",
          "data": {
            "application/javascript": [
              "window[\"96bd3580-a3b2-11e9-ad89-0242ac1c0002\"] = google.colab.output.setActiveOutputArea(window[\"968fc0f0-a3b2-11e9-ad89-0242ac1c0002\"]);\n",
              "//# sourceURL=js_01db25445e"
            ],
            "text/plain": [
              "<IPython.core.display.Javascript object>"
            ]
          },
          "metadata": {
            "tags": [
              "id4-1-1",
              "outputarea_id4"
            ]
          }
        },
        {
          "output_type": "display_data",
          "data": {
            "application/javascript": [
              "window[\"96c07268-a3b2-11e9-ad89-0242ac1c0002\"] = google.colab.output.getActiveOutputArea();\n",
              "//# sourceURL=js_213f24a1ea"
            ],
            "text/plain": [
              "<IPython.core.display.Javascript object>"
            ]
          },
          "metadata": {
            "tags": [
              "id4-2-0",
              "outputarea_id4"
            ]
          }
        },
        {
          "output_type": "display_data",
          "data": {
            "application/javascript": [
              "window[\"96c0ee1e-a3b2-11e9-ad89-0242ac1c0002\"] = document.querySelector(\"#id4-2-0\");\n",
              "//# sourceURL=js_43832f6981"
            ],
            "text/plain": [
              "<IPython.core.display.Javascript object>"
            ]
          },
          "metadata": {
            "tags": [
              "id4-2-0",
              "outputarea_id4"
            ]
          }
        },
        {
          "output_type": "display_data",
          "data": {
            "application/javascript": [
              "window[\"96c16650-a3b2-11e9-ad89-0242ac1c0002\"] = google.colab.output.setActiveOutputArea(window[\"96c0ee1e-a3b2-11e9-ad89-0242ac1c0002\"]);\n",
              "//# sourceURL=js_c55282f85b"
            ],
            "text/plain": [
              "<IPython.core.display.Javascript object>"
            ]
          },
          "metadata": {
            "tags": [
              "id4-2-0",
              "outputarea_id4"
            ]
          }
        },
        {
          "output_type": "display_data",
          "data": {
            "application/javascript": [
              "window[\"96c3cddc-a3b2-11e9-ad89-0242ac1c0002\"] = google.colab.output.setActiveOutputArea(window[\"96c07268-a3b2-11e9-ad89-0242ac1c0002\"]);\n",
              "//# sourceURL=js_b8231a174b"
            ],
            "text/plain": [
              "<IPython.core.display.Javascript object>"
            ]
          },
          "metadata": {
            "tags": [
              "id4-2-0",
              "outputarea_id4"
            ]
          }
        },
        {
          "output_type": "display_data",
          "data": {
            "application/javascript": [
              "window[\"96c5ddca-a3b2-11e9-ad89-0242ac1c0002\"] = google.colab.output.getActiveOutputArea();\n",
              "//# sourceURL=js_b61cf624a9"
            ],
            "text/plain": [
              "<IPython.core.display.Javascript object>"
            ]
          },
          "metadata": {
            "tags": [
              "id4-2-1",
              "outputarea_id4"
            ]
          }
        },
        {
          "output_type": "display_data",
          "data": {
            "application/javascript": [
              "window[\"96c62258-a3b2-11e9-ad89-0242ac1c0002\"] = document.querySelector(\"#id4-2-1\");\n",
              "//# sourceURL=js_254a8527dc"
            ],
            "text/plain": [
              "<IPython.core.display.Javascript object>"
            ]
          },
          "metadata": {
            "tags": [
              "id4-2-1",
              "outputarea_id4"
            ]
          }
        },
        {
          "output_type": "display_data",
          "data": {
            "application/javascript": [
              "window[\"96c6aaa2-a3b2-11e9-ad89-0242ac1c0002\"] = google.colab.output.setActiveOutputArea(window[\"96c62258-a3b2-11e9-ad89-0242ac1c0002\"]);\n",
              "//# sourceURL=js_1e13a7a838"
            ],
            "text/plain": [
              "<IPython.core.display.Javascript object>"
            ]
          },
          "metadata": {
            "tags": [
              "id4-2-1",
              "outputarea_id4"
            ]
          }
        },
        {
          "output_type": "display_data",
          "data": {
            "application/javascript": [
              "window[\"96efa060-a3b2-11e9-ad89-0242ac1c0002\"] = google.colab.output.setActiveOutputArea(window[\"96c5ddca-a3b2-11e9-ad89-0242ac1c0002\"]);\n",
              "//# sourceURL=js_bd2f0638a8"
            ],
            "text/plain": [
              "<IPython.core.display.Javascript object>"
            ]
          },
          "metadata": {
            "tags": [
              "id4-2-1",
              "outputarea_id4"
            ]
          }
        },
        {
          "output_type": "display_data",
          "data": {
            "application/javascript": [
              "window[\"978b251c-a3b2-11e9-ad89-0242ac1c0002\"] = google.colab.output.getActiveOutputArea();\n",
              "//# sourceURL=js_9d43060cfc"
            ],
            "text/plain": [
              "<IPython.core.display.Javascript object>"
            ]
          },
          "metadata": {
            "tags": [
              "id4-0-0",
              "outputarea_id4"
            ]
          }
        },
        {
          "output_type": "display_data",
          "data": {
            "application/javascript": [
              "window[\"978b703a-a3b2-11e9-ad89-0242ac1c0002\"] = document.querySelector(\"#id4-0-0\");\n",
              "//# sourceURL=js_759b81f9ce"
            ],
            "text/plain": [
              "<IPython.core.display.Javascript object>"
            ]
          },
          "metadata": {
            "tags": [
              "id4-0-0",
              "outputarea_id4"
            ]
          }
        },
        {
          "output_type": "display_data",
          "data": {
            "application/javascript": [
              "window[\"978c3c90-a3b2-11e9-ad89-0242ac1c0002\"] = google.colab.output.setActiveOutputArea(window[\"978b703a-a3b2-11e9-ad89-0242ac1c0002\"]);\n",
              "//# sourceURL=js_814d14b657"
            ],
            "text/plain": [
              "<IPython.core.display.Javascript object>"
            ]
          },
          "metadata": {
            "tags": [
              "id4-0-0",
              "outputarea_id4"
            ]
          }
        },
        {
          "output_type": "display_data",
          "data": {
            "application/javascript": [
              "window[\"97ac20c8-a3b2-11e9-ad89-0242ac1c0002\"] = google.colab.output.setActiveOutputArea(window[\"978b251c-a3b2-11e9-ad89-0242ac1c0002\"]);\n",
              "//# sourceURL=js_8621c0a673"
            ],
            "text/plain": [
              "<IPython.core.display.Javascript object>"
            ]
          },
          "metadata": {
            "tags": [
              "id4-0-0",
              "outputarea_id4"
            ]
          }
        },
        {
          "output_type": "display_data",
          "data": {
            "application/javascript": [
              "window[\"97ad6dde-a3b2-11e9-ad89-0242ac1c0002\"] = google.colab.output.getActiveOutputArea();\n",
              "//# sourceURL=js_43fbb1c4bc"
            ],
            "text/plain": [
              "<IPython.core.display.Javascript object>"
            ]
          },
          "metadata": {
            "tags": [
              "id4-0-1",
              "outputarea_id4"
            ]
          }
        },
        {
          "output_type": "display_data",
          "data": {
            "application/javascript": [
              "window[\"97adbfc8-a3b2-11e9-ad89-0242ac1c0002\"] = document.querySelector(\"#id4-0-1\");\n",
              "//# sourceURL=js_3ea70a7cc1"
            ],
            "text/plain": [
              "<IPython.core.display.Javascript object>"
            ]
          },
          "metadata": {
            "tags": [
              "id4-0-1",
              "outputarea_id4"
            ]
          }
        },
        {
          "output_type": "display_data",
          "data": {
            "application/javascript": [
              "window[\"97ae0f32-a3b2-11e9-ad89-0242ac1c0002\"] = google.colab.output.setActiveOutputArea(window[\"97adbfc8-a3b2-11e9-ad89-0242ac1c0002\"]);\n",
              "//# sourceURL=js_a4fcccbbf6"
            ],
            "text/plain": [
              "<IPython.core.display.Javascript object>"
            ]
          },
          "metadata": {
            "tags": [
              "id4-0-1",
              "outputarea_id4"
            ]
          }
        },
        {
          "output_type": "display_data",
          "data": {
            "application/javascript": [
              "window[\"97d04534-a3b2-11e9-ad89-0242ac1c0002\"] = google.colab.output.setActiveOutputArea(window[\"97ad6dde-a3b2-11e9-ad89-0242ac1c0002\"]);\n",
              "//# sourceURL=js_dbabee9158"
            ],
            "text/plain": [
              "<IPython.core.display.Javascript object>"
            ]
          },
          "metadata": {
            "tags": [
              "id4-0-1",
              "outputarea_id4"
            ]
          }
        },
        {
          "output_type": "display_data",
          "data": {
            "application/javascript": [
              "window[\"97d19074-a3b2-11e9-ad89-0242ac1c0002\"] = google.colab.output.getActiveOutputArea();\n",
              "//# sourceURL=js_91a5692c4c"
            ],
            "text/plain": [
              "<IPython.core.display.Javascript object>"
            ]
          },
          "metadata": {
            "tags": [
              "id4-1-0",
              "outputarea_id4"
            ]
          }
        },
        {
          "output_type": "display_data",
          "data": {
            "application/javascript": [
              "window[\"97d1df34-a3b2-11e9-ad89-0242ac1c0002\"] = document.querySelector(\"#id4-1-0\");\n",
              "//# sourceURL=js_075d22bffb"
            ],
            "text/plain": [
              "<IPython.core.display.Javascript object>"
            ]
          },
          "metadata": {
            "tags": [
              "id4-1-0",
              "outputarea_id4"
            ]
          }
        },
        {
          "output_type": "display_data",
          "data": {
            "application/javascript": [
              "window[\"97d22a34-a3b2-11e9-ad89-0242ac1c0002\"] = google.colab.output.setActiveOutputArea(window[\"97d1df34-a3b2-11e9-ad89-0242ac1c0002\"]);\n",
              "//# sourceURL=js_4e14568840"
            ],
            "text/plain": [
              "<IPython.core.display.Javascript object>"
            ]
          },
          "metadata": {
            "tags": [
              "id4-1-0",
              "outputarea_id4"
            ]
          }
        },
        {
          "output_type": "display_data",
          "data": {
            "application/javascript": [
              "window[\"97f37784-a3b2-11e9-ad89-0242ac1c0002\"] = google.colab.output.setActiveOutputArea(window[\"97d19074-a3b2-11e9-ad89-0242ac1c0002\"]);\n",
              "//# sourceURL=js_106391fb40"
            ],
            "text/plain": [
              "<IPython.core.display.Javascript object>"
            ]
          },
          "metadata": {
            "tags": [
              "id4-1-0",
              "outputarea_id4"
            ]
          }
        },
        {
          "output_type": "display_data",
          "data": {
            "application/javascript": [
              "window[\"97f57de0-a3b2-11e9-ad89-0242ac1c0002\"] = google.colab.output.getActiveOutputArea();\n",
              "//# sourceURL=js_f785fa0b97"
            ],
            "text/plain": [
              "<IPython.core.display.Javascript object>"
            ]
          },
          "metadata": {
            "tags": [
              "id4-1-1",
              "outputarea_id4"
            ]
          }
        },
        {
          "output_type": "display_data",
          "data": {
            "application/javascript": [
              "window[\"97f5d844-a3b2-11e9-ad89-0242ac1c0002\"] = document.querySelector(\"#id4-1-1\");\n",
              "//# sourceURL=js_6dbc8a05ac"
            ],
            "text/plain": [
              "<IPython.core.display.Javascript object>"
            ]
          },
          "metadata": {
            "tags": [
              "id4-1-1",
              "outputarea_id4"
            ]
          }
        },
        {
          "output_type": "display_data",
          "data": {
            "application/javascript": [
              "window[\"97f6323a-a3b2-11e9-ad89-0242ac1c0002\"] = google.colab.output.setActiveOutputArea(window[\"97f5d844-a3b2-11e9-ad89-0242ac1c0002\"]);\n",
              "//# sourceURL=js_e50a677630"
            ],
            "text/plain": [
              "<IPython.core.display.Javascript object>"
            ]
          },
          "metadata": {
            "tags": [
              "id4-1-1",
              "outputarea_id4"
            ]
          }
        },
        {
          "output_type": "display_data",
          "data": {
            "application/javascript": [
              "window[\"9816edfe-a3b2-11e9-ad89-0242ac1c0002\"] = google.colab.output.setActiveOutputArea(window[\"97f57de0-a3b2-11e9-ad89-0242ac1c0002\"]);\n",
              "//# sourceURL=js_dc677fe319"
            ],
            "text/plain": [
              "<IPython.core.display.Javascript object>"
            ]
          },
          "metadata": {
            "tags": [
              "id4-1-1",
              "outputarea_id4"
            ]
          }
        },
        {
          "output_type": "display_data",
          "data": {
            "application/javascript": [
              "window[\"9818c7f0-a3b2-11e9-ad89-0242ac1c0002\"] = google.colab.output.getActiveOutputArea();\n",
              "//# sourceURL=js_24f58477de"
            ],
            "text/plain": [
              "<IPython.core.display.Javascript object>"
            ]
          },
          "metadata": {
            "tags": [
              "id4-2-0",
              "outputarea_id4"
            ]
          }
        },
        {
          "output_type": "display_data",
          "data": {
            "application/javascript": [
              "window[\"98190814-a3b2-11e9-ad89-0242ac1c0002\"] = document.querySelector(\"#id4-2-0\");\n",
              "//# sourceURL=js_ed6dc6c0cb"
            ],
            "text/plain": [
              "<IPython.core.display.Javascript object>"
            ]
          },
          "metadata": {
            "tags": [
              "id4-2-0",
              "outputarea_id4"
            ]
          }
        },
        {
          "output_type": "display_data",
          "data": {
            "application/javascript": [
              "window[\"98195eea-a3b2-11e9-ad89-0242ac1c0002\"] = google.colab.output.setActiveOutputArea(window[\"98190814-a3b2-11e9-ad89-0242ac1c0002\"]);\n",
              "//# sourceURL=js_62651b0128"
            ],
            "text/plain": [
              "<IPython.core.display.Javascript object>"
            ]
          },
          "metadata": {
            "tags": [
              "id4-2-0",
              "outputarea_id4"
            ]
          }
        },
        {
          "output_type": "display_data",
          "data": {
            "application/javascript": [
              "window[\"981b6c1c-a3b2-11e9-ad89-0242ac1c0002\"] = google.colab.output.setActiveOutputArea(window[\"9818c7f0-a3b2-11e9-ad89-0242ac1c0002\"]);\n",
              "//# sourceURL=js_c465fe3df6"
            ],
            "text/plain": [
              "<IPython.core.display.Javascript object>"
            ]
          },
          "metadata": {
            "tags": [
              "id4-2-0",
              "outputarea_id4"
            ]
          }
        },
        {
          "output_type": "display_data",
          "data": {
            "application/javascript": [
              "window[\"981cfafa-a3b2-11e9-ad89-0242ac1c0002\"] = google.colab.output.getActiveOutputArea();\n",
              "//# sourceURL=js_bfa995c38c"
            ],
            "text/plain": [
              "<IPython.core.display.Javascript object>"
            ]
          },
          "metadata": {
            "tags": [
              "id4-2-1",
              "outputarea_id4"
            ]
          }
        },
        {
          "output_type": "display_data",
          "data": {
            "application/javascript": [
              "window[\"981d3790-a3b2-11e9-ad89-0242ac1c0002\"] = document.querySelector(\"#id4-2-1\");\n",
              "//# sourceURL=js_ea81513482"
            ],
            "text/plain": [
              "<IPython.core.display.Javascript object>"
            ]
          },
          "metadata": {
            "tags": [
              "id4-2-1",
              "outputarea_id4"
            ]
          }
        },
        {
          "output_type": "display_data",
          "data": {
            "application/javascript": [
              "window[\"981d9924-a3b2-11e9-ad89-0242ac1c0002\"] = google.colab.output.setActiveOutputArea(window[\"981d3790-a3b2-11e9-ad89-0242ac1c0002\"]);\n",
              "//# sourceURL=js_0f5637f6d7"
            ],
            "text/plain": [
              "<IPython.core.display.Javascript object>"
            ]
          },
          "metadata": {
            "tags": [
              "id4-2-1",
              "outputarea_id4"
            ]
          }
        },
        {
          "output_type": "display_data",
          "data": {
            "application/javascript": [
              "window[\"983ffdb6-a3b2-11e9-ad89-0242ac1c0002\"] = google.colab.output.setActiveOutputArea(window[\"981cfafa-a3b2-11e9-ad89-0242ac1c0002\"]);\n",
              "//# sourceURL=js_af8335320c"
            ],
            "text/plain": [
              "<IPython.core.display.Javascript object>"
            ]
          },
          "metadata": {
            "tags": [
              "id4-2-1",
              "outputarea_id4"
            ]
          }
        },
        {
          "output_type": "display_data",
          "data": {
            "application/javascript": [
              "window[\"98da8a52-a3b2-11e9-ad89-0242ac1c0002\"] = google.colab.output.getActiveOutputArea();\n",
              "//# sourceURL=js_78b85b1c43"
            ],
            "text/plain": [
              "<IPython.core.display.Javascript object>"
            ]
          },
          "metadata": {
            "tags": [
              "id4-0-0",
              "outputarea_id4"
            ]
          }
        },
        {
          "output_type": "display_data",
          "data": {
            "application/javascript": [
              "window[\"98dae1dc-a3b2-11e9-ad89-0242ac1c0002\"] = document.querySelector(\"#id4-0-0\");\n",
              "//# sourceURL=js_638db92ab1"
            ],
            "text/plain": [
              "<IPython.core.display.Javascript object>"
            ]
          },
          "metadata": {
            "tags": [
              "id4-0-0",
              "outputarea_id4"
            ]
          }
        },
        {
          "output_type": "display_data",
          "data": {
            "application/javascript": [
              "window[\"98db3f38-a3b2-11e9-ad89-0242ac1c0002\"] = google.colab.output.setActiveOutputArea(window[\"98dae1dc-a3b2-11e9-ad89-0242ac1c0002\"]);\n",
              "//# sourceURL=js_9b9d174e03"
            ],
            "text/plain": [
              "<IPython.core.display.Javascript object>"
            ]
          },
          "metadata": {
            "tags": [
              "id4-0-0",
              "outputarea_id4"
            ]
          }
        },
        {
          "output_type": "display_data",
          "data": {
            "application/javascript": [
              "window[\"98fae428-a3b2-11e9-ad89-0242ac1c0002\"] = google.colab.output.setActiveOutputArea(window[\"98da8a52-a3b2-11e9-ad89-0242ac1c0002\"]);\n",
              "//# sourceURL=js_c5a74a9b2b"
            ],
            "text/plain": [
              "<IPython.core.display.Javascript object>"
            ]
          },
          "metadata": {
            "tags": [
              "id4-0-0",
              "outputarea_id4"
            ]
          }
        },
        {
          "output_type": "display_data",
          "data": {
            "application/javascript": [
              "window[\"98fd703a-a3b2-11e9-ad89-0242ac1c0002\"] = google.colab.output.getActiveOutputArea();\n",
              "//# sourceURL=js_051c644884"
            ],
            "text/plain": [
              "<IPython.core.display.Javascript object>"
            ]
          },
          "metadata": {
            "tags": [
              "id4-0-1",
              "outputarea_id4"
            ]
          }
        },
        {
          "output_type": "display_data",
          "data": {
            "application/javascript": [
              "window[\"98fdbc5c-a3b2-11e9-ad89-0242ac1c0002\"] = document.querySelector(\"#id4-0-1\");\n",
              "//# sourceURL=js_e70598d9dd"
            ],
            "text/plain": [
              "<IPython.core.display.Javascript object>"
            ]
          },
          "metadata": {
            "tags": [
              "id4-0-1",
              "outputarea_id4"
            ]
          }
        },
        {
          "output_type": "display_data",
          "data": {
            "application/javascript": [
              "window[\"98fdfd3e-a3b2-11e9-ad89-0242ac1c0002\"] = google.colab.output.setActiveOutputArea(window[\"98fdbc5c-a3b2-11e9-ad89-0242ac1c0002\"]);\n",
              "//# sourceURL=js_ea4500b6cf"
            ],
            "text/plain": [
              "<IPython.core.display.Javascript object>"
            ]
          },
          "metadata": {
            "tags": [
              "id4-0-1",
              "outputarea_id4"
            ]
          }
        },
        {
          "output_type": "display_data",
          "data": {
            "application/javascript": [
              "window[\"991fe08e-a3b2-11e9-ad89-0242ac1c0002\"] = google.colab.output.setActiveOutputArea(window[\"98fd703a-a3b2-11e9-ad89-0242ac1c0002\"]);\n",
              "//# sourceURL=js_8c9f4526a8"
            ],
            "text/plain": [
              "<IPython.core.display.Javascript object>"
            ]
          },
          "metadata": {
            "tags": [
              "id4-0-1",
              "outputarea_id4"
            ]
          }
        },
        {
          "output_type": "display_data",
          "data": {
            "application/javascript": [
              "window[\"99226156-a3b2-11e9-ad89-0242ac1c0002\"] = google.colab.output.getActiveOutputArea();\n",
              "//# sourceURL=js_d6110defda"
            ],
            "text/plain": [
              "<IPython.core.display.Javascript object>"
            ]
          },
          "metadata": {
            "tags": [
              "id4-1-0",
              "outputarea_id4"
            ]
          }
        },
        {
          "output_type": "display_data",
          "data": {
            "application/javascript": [
              "window[\"9922e31a-a3b2-11e9-ad89-0242ac1c0002\"] = document.querySelector(\"#id4-1-0\");\n",
              "//# sourceURL=js_9dfcc678b1"
            ],
            "text/plain": [
              "<IPython.core.display.Javascript object>"
            ]
          },
          "metadata": {
            "tags": [
              "id4-1-0",
              "outputarea_id4"
            ]
          }
        },
        {
          "output_type": "display_data",
          "data": {
            "application/javascript": [
              "window[\"99232834-a3b2-11e9-ad89-0242ac1c0002\"] = google.colab.output.setActiveOutputArea(window[\"9922e31a-a3b2-11e9-ad89-0242ac1c0002\"]);\n",
              "//# sourceURL=js_a30a3f2b9d"
            ],
            "text/plain": [
              "<IPython.core.display.Javascript object>"
            ]
          },
          "metadata": {
            "tags": [
              "id4-1-0",
              "outputarea_id4"
            ]
          }
        },
        {
          "output_type": "display_data",
          "data": {
            "application/javascript": [
              "window[\"9943a9ba-a3b2-11e9-ad89-0242ac1c0002\"] = google.colab.output.setActiveOutputArea(window[\"99226156-a3b2-11e9-ad89-0242ac1c0002\"]);\n",
              "//# sourceURL=js_7544026b6f"
            ],
            "text/plain": [
              "<IPython.core.display.Javascript object>"
            ]
          },
          "metadata": {
            "tags": [
              "id4-1-0",
              "outputarea_id4"
            ]
          }
        },
        {
          "output_type": "display_data",
          "data": {
            "application/javascript": [
              "window[\"99460cb4-a3b2-11e9-ad89-0242ac1c0002\"] = google.colab.output.getActiveOutputArea();\n",
              "//# sourceURL=js_e0301bd68c"
            ],
            "text/plain": [
              "<IPython.core.display.Javascript object>"
            ]
          },
          "metadata": {
            "tags": [
              "id4-1-1",
              "outputarea_id4"
            ]
          }
        },
        {
          "output_type": "display_data",
          "data": {
            "application/javascript": [
              "window[\"99466fa6-a3b2-11e9-ad89-0242ac1c0002\"] = document.querySelector(\"#id4-1-1\");\n",
              "//# sourceURL=js_3220a82c86"
            ],
            "text/plain": [
              "<IPython.core.display.Javascript object>"
            ]
          },
          "metadata": {
            "tags": [
              "id4-1-1",
              "outputarea_id4"
            ]
          }
        },
        {
          "output_type": "display_data",
          "data": {
            "application/javascript": [
              "window[\"9946b772-a3b2-11e9-ad89-0242ac1c0002\"] = google.colab.output.setActiveOutputArea(window[\"99466fa6-a3b2-11e9-ad89-0242ac1c0002\"]);\n",
              "//# sourceURL=js_18ab9b5b67"
            ],
            "text/plain": [
              "<IPython.core.display.Javascript object>"
            ]
          },
          "metadata": {
            "tags": [
              "id4-1-1",
              "outputarea_id4"
            ]
          }
        },
        {
          "output_type": "display_data",
          "data": {
            "application/javascript": [
              "window[\"9974e9c6-a3b2-11e9-ad89-0242ac1c0002\"] = google.colab.output.setActiveOutputArea(window[\"99460cb4-a3b2-11e9-ad89-0242ac1c0002\"]);\n",
              "//# sourceURL=js_f3f929a3a6"
            ],
            "text/plain": [
              "<IPython.core.display.Javascript object>"
            ]
          },
          "metadata": {
            "tags": [
              "id4-1-1",
              "outputarea_id4"
            ]
          }
        },
        {
          "output_type": "display_data",
          "data": {
            "application/javascript": [
              "window[\"9977dad2-a3b2-11e9-ad89-0242ac1c0002\"] = google.colab.output.getActiveOutputArea();\n",
              "//# sourceURL=js_b491d14111"
            ],
            "text/plain": [
              "<IPython.core.display.Javascript object>"
            ]
          },
          "metadata": {
            "tags": [
              "id4-2-0",
              "outputarea_id4"
            ]
          }
        },
        {
          "output_type": "display_data",
          "data": {
            "application/javascript": [
              "window[\"99784b02-a3b2-11e9-ad89-0242ac1c0002\"] = document.querySelector(\"#id4-2-0\");\n",
              "//# sourceURL=js_16007b68a3"
            ],
            "text/plain": [
              "<IPython.core.display.Javascript object>"
            ]
          },
          "metadata": {
            "tags": [
              "id4-2-0",
              "outputarea_id4"
            ]
          }
        },
        {
          "output_type": "display_data",
          "data": {
            "application/javascript": [
              "window[\"9978b1be-a3b2-11e9-ad89-0242ac1c0002\"] = google.colab.output.setActiveOutputArea(window[\"99784b02-a3b2-11e9-ad89-0242ac1c0002\"]);\n",
              "//# sourceURL=js_6b20be7a4e"
            ],
            "text/plain": [
              "<IPython.core.display.Javascript object>"
            ]
          },
          "metadata": {
            "tags": [
              "id4-2-0",
              "outputarea_id4"
            ]
          }
        },
        {
          "output_type": "display_data",
          "data": {
            "application/javascript": [
              "window[\"997b0842-a3b2-11e9-ad89-0242ac1c0002\"] = google.colab.output.setActiveOutputArea(window[\"9977dad2-a3b2-11e9-ad89-0242ac1c0002\"]);\n",
              "//# sourceURL=js_33e801b9cb"
            ],
            "text/plain": [
              "<IPython.core.display.Javascript object>"
            ]
          },
          "metadata": {
            "tags": [
              "id4-2-0",
              "outputarea_id4"
            ]
          }
        },
        {
          "output_type": "display_data",
          "data": {
            "application/javascript": [
              "window[\"997caf30-a3b2-11e9-ad89-0242ac1c0002\"] = google.colab.output.getActiveOutputArea();\n",
              "//# sourceURL=js_0f4d70909c"
            ],
            "text/plain": [
              "<IPython.core.display.Javascript object>"
            ]
          },
          "metadata": {
            "tags": [
              "id4-2-1",
              "outputarea_id4"
            ]
          }
        },
        {
          "output_type": "display_data",
          "data": {
            "application/javascript": [
              "window[\"997d52fa-a3b2-11e9-ad89-0242ac1c0002\"] = document.querySelector(\"#id4-2-1\");\n",
              "//# sourceURL=js_94598196a1"
            ],
            "text/plain": [
              "<IPython.core.display.Javascript object>"
            ]
          },
          "metadata": {
            "tags": [
              "id4-2-1",
              "outputarea_id4"
            ]
          }
        },
        {
          "output_type": "display_data",
          "data": {
            "application/javascript": [
              "window[\"997db9de-a3b2-11e9-ad89-0242ac1c0002\"] = google.colab.output.setActiveOutputArea(window[\"997d52fa-a3b2-11e9-ad89-0242ac1c0002\"]);\n",
              "//# sourceURL=js_6ae61f03d8"
            ],
            "text/plain": [
              "<IPython.core.display.Javascript object>"
            ]
          },
          "metadata": {
            "tags": [
              "id4-2-1",
              "outputarea_id4"
            ]
          }
        },
        {
          "output_type": "display_data",
          "data": {
            "application/javascript": [
              "window[\"999f3f32-a3b2-11e9-ad89-0242ac1c0002\"] = google.colab.output.setActiveOutputArea(window[\"997caf30-a3b2-11e9-ad89-0242ac1c0002\"]);\n",
              "//# sourceURL=js_7483a8cf68"
            ],
            "text/plain": [
              "<IPython.core.display.Javascript object>"
            ]
          },
          "metadata": {
            "tags": [
              "id4-2-1",
              "outputarea_id4"
            ]
          }
        },
        {
          "output_type": "display_data",
          "data": {
            "application/javascript": [
              "window[\"9a39edca-a3b2-11e9-ad89-0242ac1c0002\"] = google.colab.output.getActiveOutputArea();\n",
              "//# sourceURL=js_6ab2e22f60"
            ],
            "text/plain": [
              "<IPython.core.display.Javascript object>"
            ]
          },
          "metadata": {
            "tags": [
              "id4-0-0",
              "outputarea_id4"
            ]
          }
        },
        {
          "output_type": "display_data",
          "data": {
            "application/javascript": [
              "window[\"9a3a7e34-a3b2-11e9-ad89-0242ac1c0002\"] = document.querySelector(\"#id4-0-0\");\n",
              "//# sourceURL=js_5b27a1d9ff"
            ],
            "text/plain": [
              "<IPython.core.display.Javascript object>"
            ]
          },
          "metadata": {
            "tags": [
              "id4-0-0",
              "outputarea_id4"
            ]
          }
        },
        {
          "output_type": "display_data",
          "data": {
            "application/javascript": [
              "window[\"9a3b6ad8-a3b2-11e9-ad89-0242ac1c0002\"] = google.colab.output.setActiveOutputArea(window[\"9a3a7e34-a3b2-11e9-ad89-0242ac1c0002\"]);\n",
              "//# sourceURL=js_02d1366b38"
            ],
            "text/plain": [
              "<IPython.core.display.Javascript object>"
            ]
          },
          "metadata": {
            "tags": [
              "id4-0-0",
              "outputarea_id4"
            ]
          }
        },
        {
          "output_type": "display_data",
          "data": {
            "application/javascript": [
              "window[\"9a5c2728-a3b2-11e9-ad89-0242ac1c0002\"] = google.colab.output.setActiveOutputArea(window[\"9a39edca-a3b2-11e9-ad89-0242ac1c0002\"]);\n",
              "//# sourceURL=js_de8432c572"
            ],
            "text/plain": [
              "<IPython.core.display.Javascript object>"
            ]
          },
          "metadata": {
            "tags": [
              "id4-0-0",
              "outputarea_id4"
            ]
          }
        },
        {
          "output_type": "display_data",
          "data": {
            "application/javascript": [
              "window[\"9a5f1776-a3b2-11e9-ad89-0242ac1c0002\"] = google.colab.output.getActiveOutputArea();\n",
              "//# sourceURL=js_e290ef707e"
            ],
            "text/plain": [
              "<IPython.core.display.Javascript object>"
            ]
          },
          "metadata": {
            "tags": [
              "id4-0-1",
              "outputarea_id4"
            ]
          }
        },
        {
          "output_type": "display_data",
          "data": {
            "application/javascript": [
              "window[\"9a5f7554-a3b2-11e9-ad89-0242ac1c0002\"] = document.querySelector(\"#id4-0-1\");\n",
              "//# sourceURL=js_5022100ecb"
            ],
            "text/plain": [
              "<IPython.core.display.Javascript object>"
            ]
          },
          "metadata": {
            "tags": [
              "id4-0-1",
              "outputarea_id4"
            ]
          }
        },
        {
          "output_type": "display_data",
          "data": {
            "application/javascript": [
              "window[\"9a5fdb3e-a3b2-11e9-ad89-0242ac1c0002\"] = google.colab.output.setActiveOutputArea(window[\"9a5f7554-a3b2-11e9-ad89-0242ac1c0002\"]);\n",
              "//# sourceURL=js_5a0cd166dc"
            ],
            "text/plain": [
              "<IPython.core.display.Javascript object>"
            ]
          },
          "metadata": {
            "tags": [
              "id4-0-1",
              "outputarea_id4"
            ]
          }
        },
        {
          "output_type": "display_data",
          "data": {
            "application/javascript": [
              "window[\"9a8377b0-a3b2-11e9-ad89-0242ac1c0002\"] = google.colab.output.setActiveOutputArea(window[\"9a5f1776-a3b2-11e9-ad89-0242ac1c0002\"]);\n",
              "//# sourceURL=js_4489ac343d"
            ],
            "text/plain": [
              "<IPython.core.display.Javascript object>"
            ]
          },
          "metadata": {
            "tags": [
              "id4-0-1",
              "outputarea_id4"
            ]
          }
        },
        {
          "output_type": "display_data",
          "data": {
            "application/javascript": [
              "window[\"9a85f7f6-a3b2-11e9-ad89-0242ac1c0002\"] = google.colab.output.getActiveOutputArea();\n",
              "//# sourceURL=js_b0015b1583"
            ],
            "text/plain": [
              "<IPython.core.display.Javascript object>"
            ]
          },
          "metadata": {
            "tags": [
              "id4-1-0",
              "outputarea_id4"
            ]
          }
        },
        {
          "output_type": "display_data",
          "data": {
            "application/javascript": [
              "window[\"9a86541c-a3b2-11e9-ad89-0242ac1c0002\"] = document.querySelector(\"#id4-1-0\");\n",
              "//# sourceURL=js_69f1c18e3b"
            ],
            "text/plain": [
              "<IPython.core.display.Javascript object>"
            ]
          },
          "metadata": {
            "tags": [
              "id4-1-0",
              "outputarea_id4"
            ]
          }
        },
        {
          "output_type": "display_data",
          "data": {
            "application/javascript": [
              "window[\"9a86986e-a3b2-11e9-ad89-0242ac1c0002\"] = google.colab.output.setActiveOutputArea(window[\"9a86541c-a3b2-11e9-ad89-0242ac1c0002\"]);\n",
              "//# sourceURL=js_ed7e858b4a"
            ],
            "text/plain": [
              "<IPython.core.display.Javascript object>"
            ]
          },
          "metadata": {
            "tags": [
              "id4-1-0",
              "outputarea_id4"
            ]
          }
        },
        {
          "output_type": "display_data",
          "data": {
            "application/javascript": [
              "window[\"9aa7ce30-a3b2-11e9-ad89-0242ac1c0002\"] = google.colab.output.setActiveOutputArea(window[\"9a85f7f6-a3b2-11e9-ad89-0242ac1c0002\"]);\n",
              "//# sourceURL=js_d724d8a00b"
            ],
            "text/plain": [
              "<IPython.core.display.Javascript object>"
            ]
          },
          "metadata": {
            "tags": [
              "id4-1-0",
              "outputarea_id4"
            ]
          }
        },
        {
          "output_type": "display_data",
          "data": {
            "application/javascript": [
              "window[\"9aaa6834-a3b2-11e9-ad89-0242ac1c0002\"] = google.colab.output.getActiveOutputArea();\n",
              "//# sourceURL=js_a31e90f45e"
            ],
            "text/plain": [
              "<IPython.core.display.Javascript object>"
            ]
          },
          "metadata": {
            "tags": [
              "id4-1-1",
              "outputarea_id4"
            ]
          }
        },
        {
          "output_type": "display_data",
          "data": {
            "application/javascript": [
              "window[\"9aaac8a6-a3b2-11e9-ad89-0242ac1c0002\"] = document.querySelector(\"#id4-1-1\");\n",
              "//# sourceURL=js_a8f4dad68b"
            ],
            "text/plain": [
              "<IPython.core.display.Javascript object>"
            ]
          },
          "metadata": {
            "tags": [
              "id4-1-1",
              "outputarea_id4"
            ]
          }
        },
        {
          "output_type": "display_data",
          "data": {
            "application/javascript": [
              "window[\"9aab2440-a3b2-11e9-ad89-0242ac1c0002\"] = google.colab.output.setActiveOutputArea(window[\"9aaac8a6-a3b2-11e9-ad89-0242ac1c0002\"]);\n",
              "//# sourceURL=js_e9c4578fb9"
            ],
            "text/plain": [
              "<IPython.core.display.Javascript object>"
            ]
          },
          "metadata": {
            "tags": [
              "id4-1-1",
              "outputarea_id4"
            ]
          }
        },
        {
          "output_type": "display_data",
          "data": {
            "application/javascript": [
              "window[\"9acbbaac-a3b2-11e9-ad89-0242ac1c0002\"] = google.colab.output.setActiveOutputArea(window[\"9aaa6834-a3b2-11e9-ad89-0242ac1c0002\"]);\n",
              "//# sourceURL=js_20ba1ca7d7"
            ],
            "text/plain": [
              "<IPython.core.display.Javascript object>"
            ]
          },
          "metadata": {
            "tags": [
              "id4-1-1",
              "outputarea_id4"
            ]
          }
        },
        {
          "output_type": "display_data",
          "data": {
            "application/javascript": [
              "window[\"9acdf786-a3b2-11e9-ad89-0242ac1c0002\"] = google.colab.output.getActiveOutputArea();\n",
              "//# sourceURL=js_7b9633798d"
            ],
            "text/plain": [
              "<IPython.core.display.Javascript object>"
            ]
          },
          "metadata": {
            "tags": [
              "id4-2-0",
              "outputarea_id4"
            ]
          }
        },
        {
          "output_type": "display_data",
          "data": {
            "application/javascript": [
              "window[\"9ace4452-a3b2-11e9-ad89-0242ac1c0002\"] = document.querySelector(\"#id4-2-0\");\n",
              "//# sourceURL=js_dea8b6c3ee"
            ],
            "text/plain": [
              "<IPython.core.display.Javascript object>"
            ]
          },
          "metadata": {
            "tags": [
              "id4-2-0",
              "outputarea_id4"
            ]
          }
        },
        {
          "output_type": "display_data",
          "data": {
            "application/javascript": [
              "window[\"9ace948e-a3b2-11e9-ad89-0242ac1c0002\"] = google.colab.output.setActiveOutputArea(window[\"9ace4452-a3b2-11e9-ad89-0242ac1c0002\"]);\n",
              "//# sourceURL=js_9333fea914"
            ],
            "text/plain": [
              "<IPython.core.display.Javascript object>"
            ]
          },
          "metadata": {
            "tags": [
              "id4-2-0",
              "outputarea_id4"
            ]
          }
        },
        {
          "output_type": "display_data",
          "data": {
            "application/javascript": [
              "window[\"9ad064ee-a3b2-11e9-ad89-0242ac1c0002\"] = google.colab.output.setActiveOutputArea(window[\"9acdf786-a3b2-11e9-ad89-0242ac1c0002\"]);\n",
              "//# sourceURL=js_d32b88b48a"
            ],
            "text/plain": [
              "<IPython.core.display.Javascript object>"
            ]
          },
          "metadata": {
            "tags": [
              "id4-2-0",
              "outputarea_id4"
            ]
          }
        },
        {
          "output_type": "display_data",
          "data": {
            "application/javascript": [
              "window[\"9ad1a5ac-a3b2-11e9-ad89-0242ac1c0002\"] = google.colab.output.getActiveOutputArea();\n",
              "//# sourceURL=js_80e642803c"
            ],
            "text/plain": [
              "<IPython.core.display.Javascript object>"
            ]
          },
          "metadata": {
            "tags": [
              "id4-2-1",
              "outputarea_id4"
            ]
          }
        },
        {
          "output_type": "display_data",
          "data": {
            "application/javascript": [
              "window[\"9ad20722-a3b2-11e9-ad89-0242ac1c0002\"] = document.querySelector(\"#id4-2-1\");\n",
              "//# sourceURL=js_760770993f"
            ],
            "text/plain": [
              "<IPython.core.display.Javascript object>"
            ]
          },
          "metadata": {
            "tags": [
              "id4-2-1",
              "outputarea_id4"
            ]
          }
        },
        {
          "output_type": "display_data",
          "data": {
            "application/javascript": [
              "window[\"9ad2420a-a3b2-11e9-ad89-0242ac1c0002\"] = google.colab.output.setActiveOutputArea(window[\"9ad20722-a3b2-11e9-ad89-0242ac1c0002\"]);\n",
              "//# sourceURL=js_3f423c1bc8"
            ],
            "text/plain": [
              "<IPython.core.display.Javascript object>"
            ]
          },
          "metadata": {
            "tags": [
              "id4-2-1",
              "outputarea_id4"
            ]
          }
        },
        {
          "output_type": "display_data",
          "data": {
            "application/javascript": [
              "window[\"9af6401a-a3b2-11e9-ad89-0242ac1c0002\"] = google.colab.output.setActiveOutputArea(window[\"9ad1a5ac-a3b2-11e9-ad89-0242ac1c0002\"]);\n",
              "//# sourceURL=js_980ee6c23a"
            ],
            "text/plain": [
              "<IPython.core.display.Javascript object>"
            ]
          },
          "metadata": {
            "tags": [
              "id4-2-1",
              "outputarea_id4"
            ]
          }
        },
        {
          "output_type": "display_data",
          "data": {
            "application/javascript": [
              "window[\"9b9110d6-a3b2-11e9-ad89-0242ac1c0002\"] = google.colab.output.getActiveOutputArea();\n",
              "//# sourceURL=js_a6daf8d783"
            ],
            "text/plain": [
              "<IPython.core.display.Javascript object>"
            ]
          },
          "metadata": {
            "tags": [
              "id4-0-0",
              "outputarea_id4"
            ]
          }
        },
        {
          "output_type": "display_data",
          "data": {
            "application/javascript": [
              "window[\"9b9156f4-a3b2-11e9-ad89-0242ac1c0002\"] = document.querySelector(\"#id4-0-0\");\n",
              "//# sourceURL=js_2635339eb5"
            ],
            "text/plain": [
              "<IPython.core.display.Javascript object>"
            ]
          },
          "metadata": {
            "tags": [
              "id4-0-0",
              "outputarea_id4"
            ]
          }
        },
        {
          "output_type": "display_data",
          "data": {
            "application/javascript": [
              "window[\"9b9234fc-a3b2-11e9-ad89-0242ac1c0002\"] = google.colab.output.setActiveOutputArea(window[\"9b9156f4-a3b2-11e9-ad89-0242ac1c0002\"]);\n",
              "//# sourceURL=js_13a4b0895b"
            ],
            "text/plain": [
              "<IPython.core.display.Javascript object>"
            ]
          },
          "metadata": {
            "tags": [
              "id4-0-0",
              "outputarea_id4"
            ]
          }
        },
        {
          "output_type": "display_data",
          "data": {
            "application/javascript": [
              "window[\"9bb51076-a3b2-11e9-ad89-0242ac1c0002\"] = google.colab.output.setActiveOutputArea(window[\"9b9110d6-a3b2-11e9-ad89-0242ac1c0002\"]);\n",
              "//# sourceURL=js_d5c963f946"
            ],
            "text/plain": [
              "<IPython.core.display.Javascript object>"
            ]
          },
          "metadata": {
            "tags": [
              "id4-0-0",
              "outputarea_id4"
            ]
          }
        },
        {
          "output_type": "display_data",
          "data": {
            "application/javascript": [
              "window[\"9bb816e0-a3b2-11e9-ad89-0242ac1c0002\"] = google.colab.output.getActiveOutputArea();\n",
              "//# sourceURL=js_0bb43c40ce"
            ],
            "text/plain": [
              "<IPython.core.display.Javascript object>"
            ]
          },
          "metadata": {
            "tags": [
              "id4-0-1",
              "outputarea_id4"
            ]
          }
        },
        {
          "output_type": "display_data",
          "data": {
            "application/javascript": [
              "window[\"9bb88e5e-a3b2-11e9-ad89-0242ac1c0002\"] = document.querySelector(\"#id4-0-1\");\n",
              "//# sourceURL=js_d088f2d5dc"
            ],
            "text/plain": [
              "<IPython.core.display.Javascript object>"
            ]
          },
          "metadata": {
            "tags": [
              "id4-0-1",
              "outputarea_id4"
            ]
          }
        },
        {
          "output_type": "display_data",
          "data": {
            "application/javascript": [
              "window[\"9bb903e8-a3b2-11e9-ad89-0242ac1c0002\"] = google.colab.output.setActiveOutputArea(window[\"9bb88e5e-a3b2-11e9-ad89-0242ac1c0002\"]);\n",
              "//# sourceURL=js_7da09b84b7"
            ],
            "text/plain": [
              "<IPython.core.display.Javascript object>"
            ]
          },
          "metadata": {
            "tags": [
              "id4-0-1",
              "outputarea_id4"
            ]
          }
        },
        {
          "output_type": "display_data",
          "data": {
            "application/javascript": [
              "window[\"9bda1ede-a3b2-11e9-ad89-0242ac1c0002\"] = google.colab.output.setActiveOutputArea(window[\"9bb816e0-a3b2-11e9-ad89-0242ac1c0002\"]);\n",
              "//# sourceURL=js_ef7a69272a"
            ],
            "text/plain": [
              "<IPython.core.display.Javascript object>"
            ]
          },
          "metadata": {
            "tags": [
              "id4-0-1",
              "outputarea_id4"
            ]
          }
        },
        {
          "output_type": "display_data",
          "data": {
            "application/javascript": [
              "window[\"9bdce95c-a3b2-11e9-ad89-0242ac1c0002\"] = google.colab.output.getActiveOutputArea();\n",
              "//# sourceURL=js_29d1841358"
            ],
            "text/plain": [
              "<IPython.core.display.Javascript object>"
            ]
          },
          "metadata": {
            "tags": [
              "id4-1-0",
              "outputarea_id4"
            ]
          }
        },
        {
          "output_type": "display_data",
          "data": {
            "application/javascript": [
              "window[\"9bdd33f8-a3b2-11e9-ad89-0242ac1c0002\"] = document.querySelector(\"#id4-1-0\");\n",
              "//# sourceURL=js_121b430cb9"
            ],
            "text/plain": [
              "<IPython.core.display.Javascript object>"
            ]
          },
          "metadata": {
            "tags": [
              "id4-1-0",
              "outputarea_id4"
            ]
          }
        },
        {
          "output_type": "display_data",
          "data": {
            "application/javascript": [
              "window[\"9bdd90b4-a3b2-11e9-ad89-0242ac1c0002\"] = google.colab.output.setActiveOutputArea(window[\"9bdd33f8-a3b2-11e9-ad89-0242ac1c0002\"]);\n",
              "//# sourceURL=js_c91e74c760"
            ],
            "text/plain": [
              "<IPython.core.display.Javascript object>"
            ]
          },
          "metadata": {
            "tags": [
              "id4-1-0",
              "outputarea_id4"
            ]
          }
        },
        {
          "output_type": "display_data",
          "data": {
            "application/javascript": [
              "window[\"9c005bee-a3b2-11e9-ad89-0242ac1c0002\"] = google.colab.output.setActiveOutputArea(window[\"9bdce95c-a3b2-11e9-ad89-0242ac1c0002\"]);\n",
              "//# sourceURL=js_471dc8349f"
            ],
            "text/plain": [
              "<IPython.core.display.Javascript object>"
            ]
          },
          "metadata": {
            "tags": [
              "id4-1-0",
              "outputarea_id4"
            ]
          }
        },
        {
          "output_type": "display_data",
          "data": {
            "application/javascript": [
              "window[\"9c032900-a3b2-11e9-ad89-0242ac1c0002\"] = google.colab.output.getActiveOutputArea();\n",
              "//# sourceURL=js_678c1f77d1"
            ],
            "text/plain": [
              "<IPython.core.display.Javascript object>"
            ]
          },
          "metadata": {
            "tags": [
              "id4-1-1",
              "outputarea_id4"
            ]
          }
        },
        {
          "output_type": "display_data",
          "data": {
            "application/javascript": [
              "window[\"9c039d68-a3b2-11e9-ad89-0242ac1c0002\"] = document.querySelector(\"#id4-1-1\");\n",
              "//# sourceURL=js_8bb608cada"
            ],
            "text/plain": [
              "<IPython.core.display.Javascript object>"
            ]
          },
          "metadata": {
            "tags": [
              "id4-1-1",
              "outputarea_id4"
            ]
          }
        },
        {
          "output_type": "display_data",
          "data": {
            "application/javascript": [
              "window[\"9c03fcc2-a3b2-11e9-ad89-0242ac1c0002\"] = google.colab.output.setActiveOutputArea(window[\"9c039d68-a3b2-11e9-ad89-0242ac1c0002\"]);\n",
              "//# sourceURL=js_a03241b36e"
            ],
            "text/plain": [
              "<IPython.core.display.Javascript object>"
            ]
          },
          "metadata": {
            "tags": [
              "id4-1-1",
              "outputarea_id4"
            ]
          }
        },
        {
          "output_type": "display_data",
          "data": {
            "application/javascript": [
              "window[\"9c276d10-a3b2-11e9-ad89-0242ac1c0002\"] = google.colab.output.setActiveOutputArea(window[\"9c032900-a3b2-11e9-ad89-0242ac1c0002\"]);\n",
              "//# sourceURL=js_d48a09998b"
            ],
            "text/plain": [
              "<IPython.core.display.Javascript object>"
            ]
          },
          "metadata": {
            "tags": [
              "id4-1-1",
              "outputarea_id4"
            ]
          }
        },
        {
          "output_type": "display_data",
          "data": {
            "application/javascript": [
              "window[\"9c2b0e16-a3b2-11e9-ad89-0242ac1c0002\"] = google.colab.output.getActiveOutputArea();\n",
              "//# sourceURL=js_8dea17ca10"
            ],
            "text/plain": [
              "<IPython.core.display.Javascript object>"
            ]
          },
          "metadata": {
            "tags": [
              "id4-2-0",
              "outputarea_id4"
            ]
          }
        },
        {
          "output_type": "display_data",
          "data": {
            "application/javascript": [
              "window[\"9c2b7ba8-a3b2-11e9-ad89-0242ac1c0002\"] = document.querySelector(\"#id4-2-0\");\n",
              "//# sourceURL=js_bf7e6ffe01"
            ],
            "text/plain": [
              "<IPython.core.display.Javascript object>"
            ]
          },
          "metadata": {
            "tags": [
              "id4-2-0",
              "outputarea_id4"
            ]
          }
        },
        {
          "output_type": "display_data",
          "data": {
            "application/javascript": [
              "window[\"9c2c5096-a3b2-11e9-ad89-0242ac1c0002\"] = google.colab.output.setActiveOutputArea(window[\"9c2b7ba8-a3b2-11e9-ad89-0242ac1c0002\"]);\n",
              "//# sourceURL=js_35e8e9c463"
            ],
            "text/plain": [
              "<IPython.core.display.Javascript object>"
            ]
          },
          "metadata": {
            "tags": [
              "id4-2-0",
              "outputarea_id4"
            ]
          }
        },
        {
          "output_type": "display_data",
          "data": {
            "application/javascript": [
              "window[\"9c2fd0b8-a3b2-11e9-ad89-0242ac1c0002\"] = google.colab.output.setActiveOutputArea(window[\"9c2b0e16-a3b2-11e9-ad89-0242ac1c0002\"]);\n",
              "//# sourceURL=js_532663b7ab"
            ],
            "text/plain": [
              "<IPython.core.display.Javascript object>"
            ]
          },
          "metadata": {
            "tags": [
              "id4-2-0",
              "outputarea_id4"
            ]
          }
        },
        {
          "output_type": "display_data",
          "data": {
            "application/javascript": [
              "window[\"9c32b3d2-a3b2-11e9-ad89-0242ac1c0002\"] = google.colab.output.getActiveOutputArea();\n",
              "//# sourceURL=js_b3179c64a0"
            ],
            "text/plain": [
              "<IPython.core.display.Javascript object>"
            ]
          },
          "metadata": {
            "tags": [
              "id4-2-1",
              "outputarea_id4"
            ]
          }
        },
        {
          "output_type": "display_data",
          "data": {
            "application/javascript": [
              "window[\"9c3326be-a3b2-11e9-ad89-0242ac1c0002\"] = document.querySelector(\"#id4-2-1\");\n",
              "//# sourceURL=js_df5a835e9d"
            ],
            "text/plain": [
              "<IPython.core.display.Javascript object>"
            ]
          },
          "metadata": {
            "tags": [
              "id4-2-1",
              "outputarea_id4"
            ]
          }
        },
        {
          "output_type": "display_data",
          "data": {
            "application/javascript": [
              "window[\"9c33ca6a-a3b2-11e9-ad89-0242ac1c0002\"] = google.colab.output.setActiveOutputArea(window[\"9c3326be-a3b2-11e9-ad89-0242ac1c0002\"]);\n",
              "//# sourceURL=js_9fdde788b7"
            ],
            "text/plain": [
              "<IPython.core.display.Javascript object>"
            ]
          },
          "metadata": {
            "tags": [
              "id4-2-1",
              "outputarea_id4"
            ]
          }
        },
        {
          "output_type": "display_data",
          "data": {
            "application/javascript": [
              "window[\"9c5567e2-a3b2-11e9-ad89-0242ac1c0002\"] = google.colab.output.setActiveOutputArea(window[\"9c32b3d2-a3b2-11e9-ad89-0242ac1c0002\"]);\n",
              "//# sourceURL=js_63ff6d88b8"
            ],
            "text/plain": [
              "<IPython.core.display.Javascript object>"
            ]
          },
          "metadata": {
            "tags": [
              "id4-2-1",
              "outputarea_id4"
            ]
          }
        },
        {
          "output_type": "display_data",
          "data": {
            "application/javascript": [
              "window[\"9cefaece-a3b2-11e9-ad89-0242ac1c0002\"] = google.colab.output.getActiveOutputArea();\n",
              "//# sourceURL=js_c298d6c78e"
            ],
            "text/plain": [
              "<IPython.core.display.Javascript object>"
            ]
          },
          "metadata": {
            "tags": [
              "id4-0-0",
              "outputarea_id4"
            ]
          }
        },
        {
          "output_type": "display_data",
          "data": {
            "application/javascript": [
              "window[\"9ceffc8a-a3b2-11e9-ad89-0242ac1c0002\"] = document.querySelector(\"#id4-0-0\");\n",
              "//# sourceURL=js_637cbb8f2e"
            ],
            "text/plain": [
              "<IPython.core.display.Javascript object>"
            ]
          },
          "metadata": {
            "tags": [
              "id4-0-0",
              "outputarea_id4"
            ]
          }
        },
        {
          "output_type": "display_data",
          "data": {
            "application/javascript": [
              "window[\"9cf06742-a3b2-11e9-ad89-0242ac1c0002\"] = google.colab.output.setActiveOutputArea(window[\"9ceffc8a-a3b2-11e9-ad89-0242ac1c0002\"]);\n",
              "//# sourceURL=js_096f90911f"
            ],
            "text/plain": [
              "<IPython.core.display.Javascript object>"
            ]
          },
          "metadata": {
            "tags": [
              "id4-0-0",
              "outputarea_id4"
            ]
          }
        },
        {
          "output_type": "display_data",
          "data": {
            "application/javascript": [
              "window[\"9d137048-a3b2-11e9-ad89-0242ac1c0002\"] = google.colab.output.setActiveOutputArea(window[\"9cefaece-a3b2-11e9-ad89-0242ac1c0002\"]);\n",
              "//# sourceURL=js_f380aaa18b"
            ],
            "text/plain": [
              "<IPython.core.display.Javascript object>"
            ]
          },
          "metadata": {
            "tags": [
              "id4-0-0",
              "outputarea_id4"
            ]
          }
        },
        {
          "output_type": "display_data",
          "data": {
            "application/javascript": [
              "window[\"9d180810-a3b2-11e9-ad89-0242ac1c0002\"] = google.colab.output.getActiveOutputArea();\n",
              "//# sourceURL=js_3f0c1e273c"
            ],
            "text/plain": [
              "<IPython.core.display.Javascript object>"
            ]
          },
          "metadata": {
            "tags": [
              "id4-0-1",
              "outputarea_id4"
            ]
          }
        },
        {
          "output_type": "display_data",
          "data": {
            "application/javascript": [
              "window[\"9d18b2ce-a3b2-11e9-ad89-0242ac1c0002\"] = document.querySelector(\"#id4-0-1\");\n",
              "//# sourceURL=js_d88987bcc1"
            ],
            "text/plain": [
              "<IPython.core.display.Javascript object>"
            ]
          },
          "metadata": {
            "tags": [
              "id4-0-1",
              "outputarea_id4"
            ]
          }
        },
        {
          "output_type": "display_data",
          "data": {
            "application/javascript": [
              "window[\"9d195d00-a3b2-11e9-ad89-0242ac1c0002\"] = google.colab.output.setActiveOutputArea(window[\"9d18b2ce-a3b2-11e9-ad89-0242ac1c0002\"]);\n",
              "//# sourceURL=js_e0e1835d71"
            ],
            "text/plain": [
              "<IPython.core.display.Javascript object>"
            ]
          },
          "metadata": {
            "tags": [
              "id4-0-1",
              "outputarea_id4"
            ]
          }
        },
        {
          "output_type": "display_data",
          "data": {
            "application/javascript": [
              "window[\"9d3fec4a-a3b2-11e9-ad89-0242ac1c0002\"] = google.colab.output.setActiveOutputArea(window[\"9d180810-a3b2-11e9-ad89-0242ac1c0002\"]);\n",
              "//# sourceURL=js_b9f86186f5"
            ],
            "text/plain": [
              "<IPython.core.display.Javascript object>"
            ]
          },
          "metadata": {
            "tags": [
              "id4-0-1",
              "outputarea_id4"
            ]
          }
        },
        {
          "output_type": "display_data",
          "data": {
            "application/javascript": [
              "window[\"9d434926-a3b2-11e9-ad89-0242ac1c0002\"] = google.colab.output.getActiveOutputArea();\n",
              "//# sourceURL=js_1abdaf1ade"
            ],
            "text/plain": [
              "<IPython.core.display.Javascript object>"
            ]
          },
          "metadata": {
            "tags": [
              "id4-1-0",
              "outputarea_id4"
            ]
          }
        },
        {
          "output_type": "display_data",
          "data": {
            "application/javascript": [
              "window[\"9d440f46-a3b2-11e9-ad89-0242ac1c0002\"] = document.querySelector(\"#id4-1-0\");\n",
              "//# sourceURL=js_50a36e560c"
            ],
            "text/plain": [
              "<IPython.core.display.Javascript object>"
            ]
          },
          "metadata": {
            "tags": [
              "id4-1-0",
              "outputarea_id4"
            ]
          }
        },
        {
          "output_type": "display_data",
          "data": {
            "application/javascript": [
              "window[\"9d446a7c-a3b2-11e9-ad89-0242ac1c0002\"] = google.colab.output.setActiveOutputArea(window[\"9d440f46-a3b2-11e9-ad89-0242ac1c0002\"]);\n",
              "//# sourceURL=js_89f340f2f0"
            ],
            "text/plain": [
              "<IPython.core.display.Javascript object>"
            ]
          },
          "metadata": {
            "tags": [
              "id4-1-0",
              "outputarea_id4"
            ]
          }
        },
        {
          "output_type": "display_data",
          "data": {
            "application/javascript": [
              "window[\"9d6a995e-a3b2-11e9-ad89-0242ac1c0002\"] = google.colab.output.setActiveOutputArea(window[\"9d434926-a3b2-11e9-ad89-0242ac1c0002\"]);\n",
              "//# sourceURL=js_21b968b947"
            ],
            "text/plain": [
              "<IPython.core.display.Javascript object>"
            ]
          },
          "metadata": {
            "tags": [
              "id4-1-0",
              "outputarea_id4"
            ]
          }
        },
        {
          "output_type": "display_data",
          "data": {
            "application/javascript": [
              "window[\"9d6e036e-a3b2-11e9-ad89-0242ac1c0002\"] = google.colab.output.getActiveOutputArea();\n",
              "//# sourceURL=js_57c1baf378"
            ],
            "text/plain": [
              "<IPython.core.display.Javascript object>"
            ]
          },
          "metadata": {
            "tags": [
              "id4-1-1",
              "outputarea_id4"
            ]
          }
        },
        {
          "output_type": "display_data",
          "data": {
            "application/javascript": [
              "window[\"9d6e9e6e-a3b2-11e9-ad89-0242ac1c0002\"] = document.querySelector(\"#id4-1-1\");\n",
              "//# sourceURL=js_e34f4d0bc1"
            ],
            "text/plain": [
              "<IPython.core.display.Javascript object>"
            ]
          },
          "metadata": {
            "tags": [
              "id4-1-1",
              "outputarea_id4"
            ]
          }
        },
        {
          "output_type": "display_data",
          "data": {
            "application/javascript": [
              "window[\"9d6f1b8c-a3b2-11e9-ad89-0242ac1c0002\"] = google.colab.output.setActiveOutputArea(window[\"9d6e9e6e-a3b2-11e9-ad89-0242ac1c0002\"]);\n",
              "//# sourceURL=js_e7b9f15088"
            ],
            "text/plain": [
              "<IPython.core.display.Javascript object>"
            ]
          },
          "metadata": {
            "tags": [
              "id4-1-1",
              "outputarea_id4"
            ]
          }
        },
        {
          "output_type": "display_data",
          "data": {
            "application/javascript": [
              "window[\"9d953efc-a3b2-11e9-ad89-0242ac1c0002\"] = google.colab.output.setActiveOutputArea(window[\"9d6e036e-a3b2-11e9-ad89-0242ac1c0002\"]);\n",
              "//# sourceURL=js_020fa961f0"
            ],
            "text/plain": [
              "<IPython.core.display.Javascript object>"
            ]
          },
          "metadata": {
            "tags": [
              "id4-1-1",
              "outputarea_id4"
            ]
          }
        },
        {
          "output_type": "display_data",
          "data": {
            "application/javascript": [
              "window[\"9d9861ea-a3b2-11e9-ad89-0242ac1c0002\"] = google.colab.output.getActiveOutputArea();\n",
              "//# sourceURL=js_ec020faf78"
            ],
            "text/plain": [
              "<IPython.core.display.Javascript object>"
            ]
          },
          "metadata": {
            "tags": [
              "id4-2-0",
              "outputarea_id4"
            ]
          }
        },
        {
          "output_type": "display_data",
          "data": {
            "application/javascript": [
              "window[\"9d98f43e-a3b2-11e9-ad89-0242ac1c0002\"] = document.querySelector(\"#id4-2-0\");\n",
              "//# sourceURL=js_2024a622a1"
            ],
            "text/plain": [
              "<IPython.core.display.Javascript object>"
            ]
          },
          "metadata": {
            "tags": [
              "id4-2-0",
              "outputarea_id4"
            ]
          }
        },
        {
          "output_type": "display_data",
          "data": {
            "application/javascript": [
              "window[\"9d998368-a3b2-11e9-ad89-0242ac1c0002\"] = google.colab.output.setActiveOutputArea(window[\"9d98f43e-a3b2-11e9-ad89-0242ac1c0002\"]);\n",
              "//# sourceURL=js_05522128e1"
            ],
            "text/plain": [
              "<IPython.core.display.Javascript object>"
            ]
          },
          "metadata": {
            "tags": [
              "id4-2-0",
              "outputarea_id4"
            ]
          }
        },
        {
          "output_type": "display_data",
          "data": {
            "application/javascript": [
              "window[\"9d9c431e-a3b2-11e9-ad89-0242ac1c0002\"] = google.colab.output.setActiveOutputArea(window[\"9d9861ea-a3b2-11e9-ad89-0242ac1c0002\"]);\n",
              "//# sourceURL=js_2e6ba8dbde"
            ],
            "text/plain": [
              "<IPython.core.display.Javascript object>"
            ]
          },
          "metadata": {
            "tags": [
              "id4-2-0",
              "outputarea_id4"
            ]
          }
        },
        {
          "output_type": "display_data",
          "data": {
            "application/javascript": [
              "window[\"9d9e768e-a3b2-11e9-ad89-0242ac1c0002\"] = google.colab.output.getActiveOutputArea();\n",
              "//# sourceURL=js_6c1e0f9eb7"
            ],
            "text/plain": [
              "<IPython.core.display.Javascript object>"
            ]
          },
          "metadata": {
            "tags": [
              "id4-2-1",
              "outputarea_id4"
            ]
          }
        },
        {
          "output_type": "display_data",
          "data": {
            "application/javascript": [
              "window[\"9d9ee6be-a3b2-11e9-ad89-0242ac1c0002\"] = document.querySelector(\"#id4-2-1\");\n",
              "//# sourceURL=js_386657eee8"
            ],
            "text/plain": [
              "<IPython.core.display.Javascript object>"
            ]
          },
          "metadata": {
            "tags": [
              "id4-2-1",
              "outputarea_id4"
            ]
          }
        },
        {
          "output_type": "display_data",
          "data": {
            "application/javascript": [
              "window[\"9d9fcf02-a3b2-11e9-ad89-0242ac1c0002\"] = google.colab.output.setActiveOutputArea(window[\"9d9ee6be-a3b2-11e9-ad89-0242ac1c0002\"]);\n",
              "//# sourceURL=js_7e667e252d"
            ],
            "text/plain": [
              "<IPython.core.display.Javascript object>"
            ]
          },
          "metadata": {
            "tags": [
              "id4-2-1",
              "outputarea_id4"
            ]
          }
        },
        {
          "output_type": "display_data",
          "data": {
            "application/javascript": [
              "window[\"9dd21408-a3b2-11e9-ad89-0242ac1c0002\"] = google.colab.output.setActiveOutputArea(window[\"9d9e768e-a3b2-11e9-ad89-0242ac1c0002\"]);\n",
              "//# sourceURL=js_6777de3193"
            ],
            "text/plain": [
              "<IPython.core.display.Javascript object>"
            ]
          },
          "metadata": {
            "tags": [
              "id4-2-1",
              "outputarea_id4"
            ]
          }
        },
        {
          "output_type": "display_data",
          "data": {
            "application/javascript": [
              "window[\"9e6d0c24-a3b2-11e9-ad89-0242ac1c0002\"] = google.colab.output.getActiveOutputArea();\n",
              "//# sourceURL=js_3c9700fe9e"
            ],
            "text/plain": [
              "<IPython.core.display.Javascript object>"
            ]
          },
          "metadata": {
            "tags": [
              "id4-0-0",
              "outputarea_id4"
            ]
          }
        },
        {
          "output_type": "display_data",
          "data": {
            "application/javascript": [
              "window[\"9e6d4aea-a3b2-11e9-ad89-0242ac1c0002\"] = document.querySelector(\"#id4-0-0\");\n",
              "//# sourceURL=js_d5d3b671a4"
            ],
            "text/plain": [
              "<IPython.core.display.Javascript object>"
            ]
          },
          "metadata": {
            "tags": [
              "id4-0-0",
              "outputarea_id4"
            ]
          }
        },
        {
          "output_type": "display_data",
          "data": {
            "application/javascript": [
              "window[\"9e6d8578-a3b2-11e9-ad89-0242ac1c0002\"] = google.colab.output.setActiveOutputArea(window[\"9e6d4aea-a3b2-11e9-ad89-0242ac1c0002\"]);\n",
              "//# sourceURL=js_94bec9ac73"
            ],
            "text/plain": [
              "<IPython.core.display.Javascript object>"
            ]
          },
          "metadata": {
            "tags": [
              "id4-0-0",
              "outputarea_id4"
            ]
          }
        },
        {
          "output_type": "display_data",
          "data": {
            "application/javascript": [
              "window[\"9e916664-a3b2-11e9-ad89-0242ac1c0002\"] = google.colab.output.setActiveOutputArea(window[\"9e6d0c24-a3b2-11e9-ad89-0242ac1c0002\"]);\n",
              "//# sourceURL=js_739a058cf2"
            ],
            "text/plain": [
              "<IPython.core.display.Javascript object>"
            ]
          },
          "metadata": {
            "tags": [
              "id4-0-0",
              "outputarea_id4"
            ]
          }
        },
        {
          "output_type": "display_data",
          "data": {
            "application/javascript": [
              "window[\"9e934128-a3b2-11e9-ad89-0242ac1c0002\"] = google.colab.output.getActiveOutputArea();\n",
              "//# sourceURL=js_5ce019f207"
            ],
            "text/plain": [
              "<IPython.core.display.Javascript object>"
            ]
          },
          "metadata": {
            "tags": [
              "id4-0-1",
              "outputarea_id4"
            ]
          }
        },
        {
          "output_type": "display_data",
          "data": {
            "application/javascript": [
              "window[\"9e938aca-a3b2-11e9-ad89-0242ac1c0002\"] = document.querySelector(\"#id4-0-1\");\n",
              "//# sourceURL=js_644fea814b"
            ],
            "text/plain": [
              "<IPython.core.display.Javascript object>"
            ]
          },
          "metadata": {
            "tags": [
              "id4-0-1",
              "outputarea_id4"
            ]
          }
        },
        {
          "output_type": "display_data",
          "data": {
            "application/javascript": [
              "window[\"9e93cb02-a3b2-11e9-ad89-0242ac1c0002\"] = google.colab.output.setActiveOutputArea(window[\"9e938aca-a3b2-11e9-ad89-0242ac1c0002\"]);\n",
              "//# sourceURL=js_bf69f6d42e"
            ],
            "text/plain": [
              "<IPython.core.display.Javascript object>"
            ]
          },
          "metadata": {
            "tags": [
              "id4-0-1",
              "outputarea_id4"
            ]
          }
        },
        {
          "output_type": "display_data",
          "data": {
            "application/javascript": [
              "window[\"9eb6e47a-a3b2-11e9-ad89-0242ac1c0002\"] = google.colab.output.setActiveOutputArea(window[\"9e934128-a3b2-11e9-ad89-0242ac1c0002\"]);\n",
              "//# sourceURL=js_b02e9dc086"
            ],
            "text/plain": [
              "<IPython.core.display.Javascript object>"
            ]
          },
          "metadata": {
            "tags": [
              "id4-0-1",
              "outputarea_id4"
            ]
          }
        },
        {
          "output_type": "display_data",
          "data": {
            "application/javascript": [
              "window[\"9eb8ab66-a3b2-11e9-ad89-0242ac1c0002\"] = google.colab.output.getActiveOutputArea();\n",
              "//# sourceURL=js_72435e978b"
            ],
            "text/plain": [
              "<IPython.core.display.Javascript object>"
            ]
          },
          "metadata": {
            "tags": [
              "id4-1-0",
              "outputarea_id4"
            ]
          }
        },
        {
          "output_type": "display_data",
          "data": {
            "application/javascript": [
              "window[\"9eb8f846-a3b2-11e9-ad89-0242ac1c0002\"] = document.querySelector(\"#id4-1-0\");\n",
              "//# sourceURL=js_b818b35266"
            ],
            "text/plain": [
              "<IPython.core.display.Javascript object>"
            ]
          },
          "metadata": {
            "tags": [
              "id4-1-0",
              "outputarea_id4"
            ]
          }
        },
        {
          "output_type": "display_data",
          "data": {
            "application/javascript": [
              "window[\"9eb94350-a3b2-11e9-ad89-0242ac1c0002\"] = google.colab.output.setActiveOutputArea(window[\"9eb8f846-a3b2-11e9-ad89-0242ac1c0002\"]);\n",
              "//# sourceURL=js_dab3258f85"
            ],
            "text/plain": [
              "<IPython.core.display.Javascript object>"
            ]
          },
          "metadata": {
            "tags": [
              "id4-1-0",
              "outputarea_id4"
            ]
          }
        },
        {
          "output_type": "display_data",
          "data": {
            "application/javascript": [
              "window[\"9edb42a2-a3b2-11e9-ad89-0242ac1c0002\"] = google.colab.output.setActiveOutputArea(window[\"9eb8ab66-a3b2-11e9-ad89-0242ac1c0002\"]);\n",
              "//# sourceURL=js_19d97a3d52"
            ],
            "text/plain": [
              "<IPython.core.display.Javascript object>"
            ]
          },
          "metadata": {
            "tags": [
              "id4-1-0",
              "outputarea_id4"
            ]
          }
        },
        {
          "output_type": "display_data",
          "data": {
            "application/javascript": [
              "window[\"9edcf390-a3b2-11e9-ad89-0242ac1c0002\"] = google.colab.output.getActiveOutputArea();\n",
              "//# sourceURL=js_784d5da4b8"
            ],
            "text/plain": [
              "<IPython.core.display.Javascript object>"
            ]
          },
          "metadata": {
            "tags": [
              "id4-1-1",
              "outputarea_id4"
            ]
          }
        },
        {
          "output_type": "display_data",
          "data": {
            "application/javascript": [
              "window[\"9edd439a-a3b2-11e9-ad89-0242ac1c0002\"] = document.querySelector(\"#id4-1-1\");\n",
              "//# sourceURL=js_5d4cdf90c7"
            ],
            "text/plain": [
              "<IPython.core.display.Javascript object>"
            ]
          },
          "metadata": {
            "tags": [
              "id4-1-1",
              "outputarea_id4"
            ]
          }
        },
        {
          "output_type": "display_data",
          "data": {
            "application/javascript": [
              "window[\"9edd84ea-a3b2-11e9-ad89-0242ac1c0002\"] = google.colab.output.setActiveOutputArea(window[\"9edd439a-a3b2-11e9-ad89-0242ac1c0002\"]);\n",
              "//# sourceURL=js_d71d10f530"
            ],
            "text/plain": [
              "<IPython.core.display.Javascript object>"
            ]
          },
          "metadata": {
            "tags": [
              "id4-1-1",
              "outputarea_id4"
            ]
          }
        },
        {
          "output_type": "display_data",
          "data": {
            "application/javascript": [
              "window[\"9f002e78-a3b2-11e9-ad89-0242ac1c0002\"] = google.colab.output.setActiveOutputArea(window[\"9edcf390-a3b2-11e9-ad89-0242ac1c0002\"]);\n",
              "//# sourceURL=js_440481f296"
            ],
            "text/plain": [
              "<IPython.core.display.Javascript object>"
            ]
          },
          "metadata": {
            "tags": [
              "id4-1-1",
              "outputarea_id4"
            ]
          }
        },
        {
          "output_type": "display_data",
          "data": {
            "application/javascript": [
              "window[\"9f013bf6-a3b2-11e9-ad89-0242ac1c0002\"] = google.colab.output.getActiveOutputArea();\n",
              "//# sourceURL=js_3f1989dc22"
            ],
            "text/plain": [
              "<IPython.core.display.Javascript object>"
            ]
          },
          "metadata": {
            "tags": [
              "id4-2-0",
              "outputarea_id4"
            ]
          }
        },
        {
          "output_type": "display_data",
          "data": {
            "application/javascript": [
              "window[\"9f017792-a3b2-11e9-ad89-0242ac1c0002\"] = document.querySelector(\"#id4-2-0\");\n",
              "//# sourceURL=js_599825544c"
            ],
            "text/plain": [
              "<IPython.core.display.Javascript object>"
            ]
          },
          "metadata": {
            "tags": [
              "id4-2-0",
              "outputarea_id4"
            ]
          }
        },
        {
          "output_type": "display_data",
          "data": {
            "application/javascript": [
              "window[\"9f029398-a3b2-11e9-ad89-0242ac1c0002\"] = google.colab.output.setActiveOutputArea(window[\"9f017792-a3b2-11e9-ad89-0242ac1c0002\"]);\n",
              "//# sourceURL=js_bf94dc17a0"
            ],
            "text/plain": [
              "<IPython.core.display.Javascript object>"
            ]
          },
          "metadata": {
            "tags": [
              "id4-2-0",
              "outputarea_id4"
            ]
          }
        },
        {
          "output_type": "display_data",
          "data": {
            "application/javascript": [
              "window[\"9f049058-a3b2-11e9-ad89-0242ac1c0002\"] = google.colab.output.setActiveOutputArea(window[\"9f013bf6-a3b2-11e9-ad89-0242ac1c0002\"]);\n",
              "//# sourceURL=js_c4ede3b678"
            ],
            "text/plain": [
              "<IPython.core.display.Javascript object>"
            ]
          },
          "metadata": {
            "tags": [
              "id4-2-0",
              "outputarea_id4"
            ]
          }
        },
        {
          "output_type": "display_data",
          "data": {
            "application/javascript": [
              "window[\"9f05cce8-a3b2-11e9-ad89-0242ac1c0002\"] = google.colab.output.getActiveOutputArea();\n",
              "//# sourceURL=js_1e105efe6c"
            ],
            "text/plain": [
              "<IPython.core.display.Javascript object>"
            ]
          },
          "metadata": {
            "tags": [
              "id4-2-1",
              "outputarea_id4"
            ]
          }
        },
        {
          "output_type": "display_data",
          "data": {
            "application/javascript": [
              "window[\"9f061d38-a3b2-11e9-ad89-0242ac1c0002\"] = document.querySelector(\"#id4-2-1\");\n",
              "//# sourceURL=js_a6f8c29615"
            ],
            "text/plain": [
              "<IPython.core.display.Javascript object>"
            ]
          },
          "metadata": {
            "tags": [
              "id4-2-1",
              "outputarea_id4"
            ]
          }
        },
        {
          "output_type": "display_data",
          "data": {
            "application/javascript": [
              "window[\"9f066bc6-a3b2-11e9-ad89-0242ac1c0002\"] = google.colab.output.setActiveOutputArea(window[\"9f061d38-a3b2-11e9-ad89-0242ac1c0002\"]);\n",
              "//# sourceURL=js_5bd8579946"
            ],
            "text/plain": [
              "<IPython.core.display.Javascript object>"
            ]
          },
          "metadata": {
            "tags": [
              "id4-2-1",
              "outputarea_id4"
            ]
          }
        },
        {
          "output_type": "display_data",
          "data": {
            "application/javascript": [
              "window[\"9f2de426-a3b2-11e9-ad89-0242ac1c0002\"] = google.colab.output.setActiveOutputArea(window[\"9f05cce8-a3b2-11e9-ad89-0242ac1c0002\"]);\n",
              "//# sourceURL=js_481cca1493"
            ],
            "text/plain": [
              "<IPython.core.display.Javascript object>"
            ]
          },
          "metadata": {
            "tags": [
              "id4-2-1",
              "outputarea_id4"
            ]
          }
        },
        {
          "output_type": "display_data",
          "data": {
            "application/javascript": [
              "window[\"9fc8dbe8-a3b2-11e9-ad89-0242ac1c0002\"] = google.colab.output.getActiveOutputArea();\n",
              "//# sourceURL=js_8a37abbde9"
            ],
            "text/plain": [
              "<IPython.core.display.Javascript object>"
            ]
          },
          "metadata": {
            "tags": [
              "id4-0-0",
              "outputarea_id4"
            ]
          }
        },
        {
          "output_type": "display_data",
          "data": {
            "application/javascript": [
              "window[\"9fc923fa-a3b2-11e9-ad89-0242ac1c0002\"] = document.querySelector(\"#id4-0-0\");\n",
              "//# sourceURL=js_a9d64f864c"
            ],
            "text/plain": [
              "<IPython.core.display.Javascript object>"
            ]
          },
          "metadata": {
            "tags": [
              "id4-0-0",
              "outputarea_id4"
            ]
          }
        },
        {
          "output_type": "display_data",
          "data": {
            "application/javascript": [
              "window[\"9fc9bfb8-a3b2-11e9-ad89-0242ac1c0002\"] = google.colab.output.setActiveOutputArea(window[\"9fc923fa-a3b2-11e9-ad89-0242ac1c0002\"]);\n",
              "//# sourceURL=js_15120c81ca"
            ],
            "text/plain": [
              "<IPython.core.display.Javascript object>"
            ]
          },
          "metadata": {
            "tags": [
              "id4-0-0",
              "outputarea_id4"
            ]
          }
        },
        {
          "output_type": "display_data",
          "data": {
            "application/javascript": [
              "window[\"9feaf264-a3b2-11e9-ad89-0242ac1c0002\"] = google.colab.output.setActiveOutputArea(window[\"9fc8dbe8-a3b2-11e9-ad89-0242ac1c0002\"]);\n",
              "//# sourceURL=js_2d1cc30773"
            ],
            "text/plain": [
              "<IPython.core.display.Javascript object>"
            ]
          },
          "metadata": {
            "tags": [
              "id4-0-0",
              "outputarea_id4"
            ]
          }
        },
        {
          "output_type": "display_data",
          "data": {
            "application/javascript": [
              "window[\"9feda3e2-a3b2-11e9-ad89-0242ac1c0002\"] = google.colab.output.getActiveOutputArea();\n",
              "//# sourceURL=js_cdd9995b92"
            ],
            "text/plain": [
              "<IPython.core.display.Javascript object>"
            ]
          },
          "metadata": {
            "tags": [
              "id4-0-1",
              "outputarea_id4"
            ]
          }
        },
        {
          "output_type": "display_data",
          "data": {
            "application/javascript": [
              "window[\"9fee3352-a3b2-11e9-ad89-0242ac1c0002\"] = document.querySelector(\"#id4-0-1\");\n",
              "//# sourceURL=js_11a631e7a1"
            ],
            "text/plain": [
              "<IPython.core.display.Javascript object>"
            ]
          },
          "metadata": {
            "tags": [
              "id4-0-1",
              "outputarea_id4"
            ]
          }
        },
        {
          "output_type": "display_data",
          "data": {
            "application/javascript": [
              "window[\"9fef1696-a3b2-11e9-ad89-0242ac1c0002\"] = google.colab.output.setActiveOutputArea(window[\"9fee3352-a3b2-11e9-ad89-0242ac1c0002\"]);\n",
              "//# sourceURL=js_9f8d9136a7"
            ],
            "text/plain": [
              "<IPython.core.display.Javascript object>"
            ]
          },
          "metadata": {
            "tags": [
              "id4-0-1",
              "outputarea_id4"
            ]
          }
        },
        {
          "output_type": "display_data",
          "data": {
            "application/javascript": [
              "window[\"a0177082-a3b2-11e9-ad89-0242ac1c0002\"] = google.colab.output.setActiveOutputArea(window[\"9feda3e2-a3b2-11e9-ad89-0242ac1c0002\"]);\n",
              "//# sourceURL=js_3881e8b029"
            ],
            "text/plain": [
              "<IPython.core.display.Javascript object>"
            ]
          },
          "metadata": {
            "tags": [
              "id4-0-1",
              "outputarea_id4"
            ]
          }
        },
        {
          "output_type": "display_data",
          "data": {
            "application/javascript": [
              "window[\"a01a1e72-a3b2-11e9-ad89-0242ac1c0002\"] = google.colab.output.getActiveOutputArea();\n",
              "//# sourceURL=js_eb03150b86"
            ],
            "text/plain": [
              "<IPython.core.display.Javascript object>"
            ]
          },
          "metadata": {
            "tags": [
              "id4-1-0",
              "outputarea_id4"
            ]
          }
        },
        {
          "output_type": "display_data",
          "data": {
            "application/javascript": [
              "window[\"a01a9a28-a3b2-11e9-ad89-0242ac1c0002\"] = document.querySelector(\"#id4-1-0\");\n",
              "//# sourceURL=js_07212f4923"
            ],
            "text/plain": [
              "<IPython.core.display.Javascript object>"
            ]
          },
          "metadata": {
            "tags": [
              "id4-1-0",
              "outputarea_id4"
            ]
          }
        },
        {
          "output_type": "display_data",
          "data": {
            "application/javascript": [
              "window[\"a01b0ada-a3b2-11e9-ad89-0242ac1c0002\"] = google.colab.output.setActiveOutputArea(window[\"a01a9a28-a3b2-11e9-ad89-0242ac1c0002\"]);\n",
              "//# sourceURL=js_163ed2df97"
            ],
            "text/plain": [
              "<IPython.core.display.Javascript object>"
            ]
          },
          "metadata": {
            "tags": [
              "id4-1-0",
              "outputarea_id4"
            ]
          }
        },
        {
          "output_type": "display_data",
          "data": {
            "application/javascript": [
              "window[\"a03d697c-a3b2-11e9-ad89-0242ac1c0002\"] = google.colab.output.setActiveOutputArea(window[\"a01a1e72-a3b2-11e9-ad89-0242ac1c0002\"]);\n",
              "//# sourceURL=js_bf22074270"
            ],
            "text/plain": [
              "<IPython.core.display.Javascript object>"
            ]
          },
          "metadata": {
            "tags": [
              "id4-1-0",
              "outputarea_id4"
            ]
          }
        },
        {
          "output_type": "display_data",
          "data": {
            "application/javascript": [
              "window[\"a0402ee6-a3b2-11e9-ad89-0242ac1c0002\"] = google.colab.output.getActiveOutputArea();\n",
              "//# sourceURL=js_dfb77e86b4"
            ],
            "text/plain": [
              "<IPython.core.display.Javascript object>"
            ]
          },
          "metadata": {
            "tags": [
              "id4-1-1",
              "outputarea_id4"
            ]
          }
        },
        {
          "output_type": "display_data",
          "data": {
            "application/javascript": [
              "window[\"a0409d2c-a3b2-11e9-ad89-0242ac1c0002\"] = document.querySelector(\"#id4-1-1\");\n",
              "//# sourceURL=js_3b9e8b070c"
            ],
            "text/plain": [
              "<IPython.core.display.Javascript object>"
            ]
          },
          "metadata": {
            "tags": [
              "id4-1-1",
              "outputarea_id4"
            ]
          }
        },
        {
          "output_type": "display_data",
          "data": {
            "application/javascript": [
              "window[\"a041204e-a3b2-11e9-ad89-0242ac1c0002\"] = google.colab.output.setActiveOutputArea(window[\"a0409d2c-a3b2-11e9-ad89-0242ac1c0002\"]);\n",
              "//# sourceURL=js_e3ac6bb634"
            ],
            "text/plain": [
              "<IPython.core.display.Javascript object>"
            ]
          },
          "metadata": {
            "tags": [
              "id4-1-1",
              "outputarea_id4"
            ]
          }
        },
        {
          "output_type": "display_data",
          "data": {
            "image/png": "[encoded data removed]",
            "text/plain": [
              "<Figure size 432x288 with 1 Axes>"
            ]
          },
          "metadata": {
            "tags": [
              "id4-1-1",
              "outputarea_id4",
              "user_output"
            ]
          }
        },
        {
          "output_type": "display_data",
          "data": {
            "application/javascript": [
              "window[\"a065395c-a3b2-11e9-ad89-0242ac1c0002\"] = google.colab.output.setActiveOutputArea(window[\"a0402ee6-a3b2-11e9-ad89-0242ac1c0002\"]);\n",
              "//# sourceURL=js_f22be84176"
            ],
            "text/plain": [
              "<IPython.core.display.Javascript object>"
            ]
          },
          "metadata": {
            "tags": [
              "id4-1-1",
              "outputarea_id4"
            ]
          }
        },
        {
          "output_type": "display_data",
          "data": {
            "application/javascript": [
              "window[\"a0681730-a3b2-11e9-ad89-0242ac1c0002\"] = google.colab.output.getActiveOutputArea();\n",
              "//# sourceURL=js_e2d3cfbc00"
            ],
            "text/plain": [
              "<IPython.core.display.Javascript object>"
            ]
          },
          "metadata": {
            "tags": [
              "id4-2-0",
              "outputarea_id4"
            ]
          }
        },
        {
          "output_type": "display_data",
          "data": {
            "application/javascript": [
              "window[\"a0688788-a3b2-11e9-ad89-0242ac1c0002\"] = document.querySelector(\"#id4-2-0\");\n",
              "//# sourceURL=js_07398bed2b"
            ],
            "text/plain": [
              "<IPython.core.display.Javascript object>"
            ]
          },
          "metadata": {
            "tags": [
              "id4-2-0",
              "outputarea_id4"
            ]
          }
        },
        {
          "output_type": "display_data",
          "data": {
            "application/javascript": [
              "window[\"a068f362-a3b2-11e9-ad89-0242ac1c0002\"] = google.colab.output.setActiveOutputArea(window[\"a0688788-a3b2-11e9-ad89-0242ac1c0002\"]);\n",
              "//# sourceURL=js_93f38ba365"
            ],
            "text/plain": [
              "<IPython.core.display.Javascript object>"
            ]
          },
          "metadata": {
            "tags": [
              "id4-2-0",
              "outputarea_id4"
            ]
          }
        },
        {
          "output_type": "stream",
          "text": [
            "08:05:19\n",
            "name: scram, start: 08:03:37, end: 08:03:38\n",
            "name: rod_up, start: 08:03:37, end: 08:05:18\n",
            "name: rod_up, start: 08:03:37, end: 08:05:18\n",
            "name: rod_down, start: 08:03:37, end: 08:03:39\n",
            "name: steam, start: 08:03:37, end: 08:03:40\n",
            "name: tip, start: 08:03:37, end: 08:03:38\n",
            "name: iodine, start: 08:03:37, end: 08:04:17\n",
            "name: pump_up, start: 08:03:37, end: 08:03:42\n",
            "name: pump_down, start: 08:03:37, end: 08:03:42\n",
            "name: iodine, start: 08:03:37, end: 08:03:38\n",
            "name: water, start: 08:03:37, end: 08:03:38\n",
            "name: steam, start: 08:03:37, end: 08:03:38\n",
            "name: iodine, start: 08:03:40, end: 08:03:41\n",
            "name: water, start: 08:03:40, end: 08:03:41\n",
            "name: steam, start: 08:03:40, end: 08:03:41\n",
            "name: iodine, start: 08:03:42, end: 08:03:43\n",
            "name: water, start: 08:03:42, end: 08:03:43\n",
            "name: steam, start: 08:03:42, end: 08:03:43\n",
            "name: iodine, start: 08:03:45, end: 08:03:46\n",
            "name: iodine, start: 08:03:47, end: 08:03:48\n",
            "name: iodine, start: 08:03:50, end: 08:03:51\n",
            "name: iodine, start: 08:03:52, end: 08:03:53\n",
            "name: iodine, start: 08:03:54, end: 08:03:55\n",
            "name: iodine, start: 08:04:55, end: 08:04:56\n",
            "name: iodine, start: 08:04:57, end: 08:04:58\n",
            "name: iodine, start: 08:05:00, end: 08:05:01\n",
            "name: iodine, start: 08:05:02, end: 08:05:03\n",
            "name: iodine, start: 08:05:05, end: 08:05:06\n"
          ],
          "name": "stdout"
        },
        {
          "output_type": "display_data",
          "data": {
            "application/javascript": [
              "window[\"a06b7a4c-a3b2-11e9-ad89-0242ac1c0002\"] = google.colab.output.setActiveOutputArea(window[\"a0681730-a3b2-11e9-ad89-0242ac1c0002\"]);\n",
              "//# sourceURL=js_ad691a71ed"
            ],
            "text/plain": [
              "<IPython.core.display.Javascript object>"
            ]
          },
          "metadata": {
            "tags": [
              "id4-2-0",
              "outputarea_id4"
            ]
          }
        },
        {
          "output_type": "display_data",
          "data": {
            "application/javascript": [
              "window[\"a06d3bd4-a3b2-11e9-ad89-0242ac1c0002\"] = google.colab.output.getActiveOutputArea();\n",
              "//# sourceURL=js_fd1de49395"
            ],
            "text/plain": [
              "<IPython.core.display.Javascript object>"
            ]
          },
          "metadata": {
            "tags": [
              "id4-2-1",
              "outputarea_id4"
            ]
          }
        },
        {
          "output_type": "display_data",
          "data": {
            "application/javascript": [
              "window[\"a06dc360-a3b2-11e9-ad89-0242ac1c0002\"] = document.querySelector(\"#id4-2-1\");\n",
              "//# sourceURL=js_4639e74978"
            ],
            "text/plain": [
              "<IPython.core.display.Javascript object>"
            ]
          },
          "metadata": {
            "tags": [
              "id4-2-1",
              "outputarea_id4"
            ]
          }
        },
        {
          "output_type": "display_data",
          "data": {
            "application/javascript": [
              "window[\"a06e37e6-a3b2-11e9-ad89-0242ac1c0002\"] = google.colab.output.setActiveOutputArea(window[\"a06dc360-a3b2-11e9-ad89-0242ac1c0002\"]);\n",
              "//# sourceURL=js_10187db9bd"
            ],
            "text/plain": [
              "<IPython.core.display.Javascript object>"
            ]
          },
          "metadata": {
            "tags": [
              "id4-2-1",
              "outputarea_id4"
            ]
          }
        },
        {
          "output_type": "display_data",
          "data": {
            "image/png": "[encoded data removed]",
            "text/plain": [
              "<Figure size 432x288 with 1 Axes>"
            ]
          },
          "metadata": {
            "tags": [
              "id4-2-1",
              "outputarea_id4",
              "user_output"
            ]
          }
        },
        {
          "output_type": "display_data",
          "data": {
            "application/javascript": [
              "window[\"a0917972-a3b2-11e9-ad89-0242ac1c0002\"] = google.colab.output.setActiveOutputArea(window[\"a06d3bd4-a3b2-11e9-ad89-0242ac1c0002\"]);\n",
              "//# sourceURL=js_e13d775c23"
            ],
            "text/plain": [
              "<IPython.core.display.Javascript object>"
            ]
          },
          "metadata": {
            "tags": [
              "id4-2-1",
              "outputarea_id4"
            ]
          }
        },
        {
          "output_type": "display_data",
          "data": {
            "application/javascript": [
              "window[\"a12b801c-a3b2-11e9-ad89-0242ac1c0002\"] = google.colab.output.getActiveOutputArea();\n",
              "//# sourceURL=js_06fed76393"
            ],
            "text/plain": [
              "<IPython.core.display.Javascript object>"
            ]
          },
          "metadata": {
            "tags": [
              "id4-0-0",
              "outputarea_id4"
            ]
          }
        },
        {
          "output_type": "display_data",
          "data": {
            "application/javascript": [
              "window[\"a12c2b20-a3b2-11e9-ad89-0242ac1c0002\"] = document.querySelector(\"#id4-0-0\");\n",
              "//# sourceURL=js_a022382257"
            ],
            "text/plain": [
              "<IPython.core.display.Javascript object>"
            ]
          },
          "metadata": {
            "tags": [
              "id4-0-0",
              "outputarea_id4"
            ]
          }
        },
        {
          "output_type": "display_data",
          "data": {
            "application/javascript": [
              "window[\"a12cf05a-a3b2-11e9-ad89-0242ac1c0002\"] = google.colab.output.setActiveOutputArea(window[\"a12c2b20-a3b2-11e9-ad89-0242ac1c0002\"]);\n",
              "//# sourceURL=js_b0d8b18940"
            ],
            "text/plain": [
              "<IPython.core.display.Javascript object>"
            ]
          },
          "metadata": {
            "tags": [
              "id4-0-0",
              "outputarea_id4"
            ]
          }
        },
        {
          "output_type": "display_data",
          "data": {
            "image/png": "[encoded data removed]",
            "text/plain": [
              "<Figure size 432x288 with 1 Axes>"
            ]
          },
          "metadata": {
            "tags": [
              "id4-0-0",
              "outputarea_id4",
              "user_output"
            ]
          }
        },
        {
          "output_type": "display_data",
          "data": {
            "application/javascript": [
              "window[\"a14f7ddc-a3b2-11e9-ad89-0242ac1c0002\"] = google.colab.output.setActiveOutputArea(window[\"a12b801c-a3b2-11e9-ad89-0242ac1c0002\"]);\n",
              "//# sourceURL=js_ed5b25af85"
            ],
            "text/plain": [
              "<IPython.core.display.Javascript object>"
            ]
          },
          "metadata": {
            "tags": [
              "id4-0-0",
              "outputarea_id4"
            ]
          }
        },
        {
          "output_type": "display_data",
          "data": {
            "application/javascript": [
              "window[\"a1531708-a3b2-11e9-ad89-0242ac1c0002\"] = google.colab.output.getActiveOutputArea();\n",
              "//# sourceURL=js_cf8154971b"
            ],
            "text/plain": [
              "<IPython.core.display.Javascript object>"
            ]
          },
          "metadata": {
            "tags": [
              "id4-0-1",
              "outputarea_id4"
            ]
          }
        },
        {
          "output_type": "display_data",
          "data": {
            "application/javascript": [
              "window[\"a15388be-a3b2-11e9-ad89-0242ac1c0002\"] = document.querySelector(\"#id4-0-1\");\n",
              "//# sourceURL=js_d7d4ecabee"
            ],
            "text/plain": [
              "<IPython.core.display.Javascript object>"
            ]
          },
          "metadata": {
            "tags": [
              "id4-0-1",
              "outputarea_id4"
            ]
          }
        },
        {
          "output_type": "display_data",
          "data": {
            "application/javascript": [
              "window[\"a1540dca-a3b2-11e9-ad89-0242ac1c0002\"] = google.colab.output.setActiveOutputArea(window[\"a15388be-a3b2-11e9-ad89-0242ac1c0002\"]);\n",
              "//# sourceURL=js_aab642c8e9"
            ],
            "text/plain": [
              "<IPython.core.display.Javascript object>"
            ]
          },
          "metadata": {
            "tags": [
              "id4-0-1",
              "outputarea_id4"
            ]
          }
        },
        {
          "output_type": "display_data",
          "data": {
            "image/png": "[encoded data removed]",
            "text/plain": [
              "<Figure size 432x288 with 1 Axes>"
            ]
          },
          "metadata": {
            "tags": [
              "id4-0-1",
              "outputarea_id4",
              "user_output"
            ]
          }
        },
        {
          "output_type": "display_data",
          "data": {
            "application/javascript": [
              "window[\"a1764d86-a3b2-11e9-ad89-0242ac1c0002\"] = google.colab.output.setActiveOutputArea(window[\"a1531708-a3b2-11e9-ad89-0242ac1c0002\"]);\n",
              "//# sourceURL=js_f4d92de88f"
            ],
            "text/plain": [
              "<IPython.core.display.Javascript object>"
            ]
          },
          "metadata": {
            "tags": [
              "id4-0-1",
              "outputarea_id4"
            ]
          }
        },
        {
          "output_type": "display_data",
          "data": {
            "application/javascript": [
              "window[\"a1789a32-a3b2-11e9-ad89-0242ac1c0002\"] = google.colab.output.getActiveOutputArea();\n",
              "//# sourceURL=js_2c92b9dc51"
            ],
            "text/plain": [
              "<IPython.core.display.Javascript object>"
            ]
          },
          "metadata": {
            "tags": [
              "id4-1-0",
              "outputarea_id4"
            ]
          }
        },
        {
          "output_type": "display_data",
          "data": {
            "application/javascript": [
              "window[\"a178f4e6-a3b2-11e9-ad89-0242ac1c0002\"] = document.querySelector(\"#id4-1-0\");\n",
              "//# sourceURL=js_84ac2db932"
            ],
            "text/plain": [
              "<IPython.core.display.Javascript object>"
            ]
          },
          "metadata": {
            "tags": [
              "id4-1-0",
              "outputarea_id4"
            ]
          }
        },
        {
          "output_type": "display_data",
          "data": {
            "application/javascript": [
              "window[\"a179ef0e-a3b2-11e9-ad89-0242ac1c0002\"] = google.colab.output.setActiveOutputArea(window[\"a178f4e6-a3b2-11e9-ad89-0242ac1c0002\"]);\n",
              "//# sourceURL=js_d99af21a57"
            ],
            "text/plain": [
              "<IPython.core.display.Javascript object>"
            ]
          },
          "metadata": {
            "tags": [
              "id4-1-0",
              "outputarea_id4"
            ]
          }
        },
        {
          "output_type": "display_data",
          "data": {
            "image/png": "[encoded data removed]",
            "text/plain": [
              "<Figure size 432x288 with 1 Axes>"
            ]
          },
          "metadata": {
            "tags": [
              "id4-1-0",
              "outputarea_id4",
              "user_output"
            ]
          }
        },
        {
          "output_type": "display_data",
          "data": {
            "application/javascript": [
              "window[\"a19da980-a3b2-11e9-ad89-0242ac1c0002\"] = google.colab.output.setActiveOutputArea(window[\"a1789a32-a3b2-11e9-ad89-0242ac1c0002\"]);\n",
              "//# sourceURL=js_38901a7a39"
            ],
            "text/plain": [
              "<IPython.core.display.Javascript object>"
            ]
          },
          "metadata": {
            "tags": [
              "id4-1-0",
              "outputarea_id4"
            ]
          }
        },
        {
          "output_type": "display_data",
          "data": {
            "application/javascript": [
              "window[\"a19ffe56-a3b2-11e9-ad89-0242ac1c0002\"] = google.colab.output.getActiveOutputArea();\n",
              "//# sourceURL=js_5ff8ed21fe"
            ],
            "text/plain": [
              "<IPython.core.display.Javascript object>"
            ]
          },
          "metadata": {
            "tags": [
              "id4-1-1",
              "outputarea_id4"
            ]
          }
        },
        {
          "output_type": "display_data",
          "data": {
            "application/javascript": [
              "window[\"a1a0509a-a3b2-11e9-ad89-0242ac1c0002\"] = document.querySelector(\"#id4-1-1\");\n",
              "//# sourceURL=js_43833f3490"
            ],
            "text/plain": [
              "<IPython.core.display.Javascript object>"
            ]
          },
          "metadata": {
            "tags": [
              "id4-1-1",
              "outputarea_id4"
            ]
          }
        }
      ]
    }
  ]
}